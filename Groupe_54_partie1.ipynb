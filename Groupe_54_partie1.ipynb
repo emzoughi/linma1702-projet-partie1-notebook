{
 "cells": [
  {
   "cell_type": "markdown",
   "id": "9cb7bd70",
   "metadata": {},
   "source": [
    "# **LINMA1702 - Modèles et méthodes d'optimisation**\n",
    "## *Projet d'optimisation : Première partie*\n",
    "> *Remarque : Nous avons commencé par l'écriture du rapport PDF en Latex sur base de ce que nous avions codé au préalable. De ce fait, après cela, pour faciliter la rédaction de ce notebook, nous avons utilisé l’outil d’intelligence artificielle ChatGPT afin de retranscrire certains textes issus de notre PDF vers le format Markdown (notamment pour les encadrés, titres et équations). Nous avons bien sûr relu et ajusté ces contenus manuellement après coup pour qu’ils correspondent à ce qu'on avait écrit dans notre rapport PDF.  \n",
    "> Les codes, modèles et résultats d’optimisation ont quant à eux été entièrement réalisés par nous-mêmes. L’IA n’est intervenue que sur **la retranscription** Markdown, jamais sur les parties techniques.*\n",
    "\n"
   ]
  },
  {
   "cell_type": "markdown",
   "id": "45058a6d",
   "metadata": {},
   "source": [
    "---\n",
    "##  Introduction\n",
    "Ce projet s’inscrit dans le cadre du cours *LINMA1702 - Modèles et méthodes d’optimisation* et porte sur la planification de la production d’une ligne d’assemblage de vélos électriques. Dans un contexte où les carnets de commande sont connus à l’avance mais sujets à une variabilité importante, l’enjeu est de déterminer une stratégie de production optimale permettant de satisfaire les besoins des clients tout en maîtrisant les coûts de l’entreprise.\n",
    "\n",
    "La première partie se focalise sur un modèle simplifié où le personnel reste constant tout au long de l’horizon de planification. L’objectif est de modéliser ce problème sous forme d’un programme linéaire continu, en intégrant les différentes possibilités d’ajustement à disposition de l’entreprise : recours aux heures supplémentaires, constitution de stocks, sous-traitance ou encore gestion des retards de livraison.\n",
    "\n",
    "Ce notebook présente une formulation complète du problème, suivie de son implémentation à l’aide de la bibliothèque Python CVXPY. L’analyse de la solution optimale permet d’évaluer les compromis mis en œuvre par le modèle pour minimiser les coûts globaux. Enfin, une étude de sensibilité est réalisée afin d’observer la robustesse du plan de production face à une perturbation de la demande, ainsi que quelques pistes d’extension du modèle.\n",
    "\n",
    "L’ensemble du code et des visualisations est intégré dans ce document interactif, facilitant l’interprétation des résultats et la lecture du modèle.\n"
   ]
  },
  {
   "cell_type": "markdown",
   "id": "0bfc084a",
   "metadata": {},
   "source": [
    "---\n",
    "### Les imports\n"
   ]
  },
  {
   "cell_type": "code",
   "execution_count": 57,
   "id": "b1f09578",
   "metadata": {},
   "outputs": [],
   "source": [
    "import numpy as np\n",
    "import pandas as pd\n",
    "import cvxpy as cp\n",
    "import plotly.graph_objects as go\n",
    "import time\n",
    "from statistics import mean"
   ]
  },
  {
   "cell_type": "markdown",
   "id": "83e5045a",
   "metadata": {},
   "source": [
    "---\n",
    "\n",
    "##  Question 1 : Formulation, résolution et analyse du modèle et de la solution\n",
    "\n",
    "Nous modélisons notre problème comme un programme d’optimisation linéaire.  \n",
    "Ce type de modélisation repose sur la définition :\n",
    "\n",
    "- d’un vecteur de variables de décision représentant les actions possibles (quantités produites, stockées, sous-traitées, etc.) ;\n",
    "- d’une fonction objectif qui comptabilise l’ensemble des coûts (production, heures supplémentaires, stockage, sous-traitance, pénalités de retard) ;\n",
    "- et d’un ensemble de contraintes reflétant les capacités de production, les équilibres entre offre et demande, ainsi que les limitations opérationnelles (stock initial, livraisons autorisées, maximums hebdomadaires, etc.).\n",
    "\n",
    "On définit donc notre problème d’optimisation comme suit :\n",
    "\n",
    "$$\n",
    "\\text{minimiser } f(x) \\\\\n",
    "\\text{sous la contrainte } x \\in \\Omega\n",
    "$$\n",
    "\n",
    "où :\n",
    "\n",
    "- \\( f \\) est la fonction objectif ;\n",
    "- \\( x \\) est le vecteur des variables de décision ;\n",
    "- \\( $\\Omega$ \\) est le domaine admissible des variables de décision lié aux contraintes qu’on définit.\n",
    "\n",
    "\n"
   ]
  },
  {
   "cell_type": "markdown",
   "id": "83777583",
   "metadata": {},
   "source": [
    "---\n",
    "\n",
    "###  1.1./1.2. Formulation, implémentation et résolution du modèle\n",
    "\n",
    "Nous modélisons la planification de la production hebdomadaire de vélos sur un horizon de $T = 11$ semaines. L’objectif est de minimiser les coûts globaux tout en répondant à la demande client, en respectant les capacités de production, les possibilités de sous-traitance et les contraintes de stock.\n",
    "\n"
   ]
  },
  {
   "cell_type": "markdown",
   "id": "25b63fef",
   "metadata": {},
   "source": [
    "####  Variables de décision\n",
    "\n",
    "Pour chaque semaine $s = 0, \\dots, T-1$ nous introduisons les variables suivantes (dimension temporelle de T):\n",
    "\n",
    "- $P_s$ : nombre de vélos produits de manière standard à la semaine s \n",
    "- $H_s$ : nombre d’heures supplémentaires effectuées à la semaine s\n",
    "- $ST_s$ : nombre de vélos sous-traités à la semaine s  \n",
    "- $R1_s$ : nombre de vélos retardés d'1 semaine à la semaine s\n",
    "- $R2_s$ : nombre de vélos retardés de 2 semaines à la semaine s\n",
    "\n",
    "Pour pouvoir gérer aisément les stock initiaux et finaux, et l'équilibre entre les différentes semaines, on introduit une autre variable quant à elle définit pour $s = 0, \\dots, T$ (dimension temporelle de $T$+1) :\n",
    "- $S_s$ : stock de vélos à la fin de la semaine s+1 (car $S_0$ fait référence au stock initial imposé)\n"
   ]
  },
  {
   "cell_type": "code",
   "execution_count": 58,
   "id": "cb303be1",
   "metadata": {},
   "outputs": [],
   "source": [
    "T=11\n",
    "P = cp.Variable(T, nonneg=True)\n",
    "H = cp.Variable(T, nonneg=True)\n",
    "ST = cp.Variable(T, nonneg=True)\n",
    "S = cp.Variable(T + 1, nonneg=True)\n",
    "R1 = cp.Variable(T, nonneg=True)\n",
    "R2 = cp.Variable(T, nonneg=True)"
   ]
  },
  {
   "cell_type": "markdown",
   "id": "6a5c7850",
   "metadata": {},
   "source": [
    "####  Paramètres\n",
    "\n",
    "- $T$ : horizon de plannification (nombre de semaines)\n",
    "- $D_s$ : demande en semaine $s$\n",
    "- $t_a$ : durée d’assemblage d’un vélo (en minutes)\n",
    "- $n_o$ : nombre d’ouvriers\n",
    "- $h_r$ : heures rémunérées par ouvrier et par semaine\n",
    "- $h_p^{\\max}$ : durée maximale dédiée à l'assemblage de vélos par ouvrier par semaine\n",
    "- $c_o$ : coût horaire par ouvrier\n",
    "- $c_{HS}$ : coût d'une heure supplémentaire\n",
    "- $h_s^{\\max}$ : nombre maximal d’heures supplémentaires par ouvrier par semaine\n",
    "- $c_m$ : coût des matériaux par vélo\n",
    "- $c_{ST}$ : coût de la sous-traitance par vélo\n",
    "- $n_{st}^{\\max}$ : maximum de vélos sous-traitables par semaine\n",
    "- $c_s$ : coût de stockage par vélo et par semaine  \n",
    "- $p_1$, $p_2$ : pénalités pour retards de 1 et 2 semaines\n",
    "- $S_{in}$ : stock initial imposé"
   ]
  },
  {
   "cell_type": "code",
   "execution_count": 59,
   "id": "b9057f50",
   "metadata": {},
   "outputs": [],
   "source": [
    "demande = np.array([2000, 2000, 2000, 3000, 4000, 2000, 1500, 1500, 2500, 3000, 3000])\n",
    "duree_assemblage = 15\n",
    "stock_initial = 250\n",
    "nb_ouvriers = 16\n",
    "cout_horaire = 40\n",
    "nb_heures_remunerees = 38\n",
    "cout_heure_sup = 55\n",
    "nb_max_heure_sup = 5\n",
    "cout_stockage = 5\n",
    "penalite_1semaine = 10\n",
    "penalite_2semaines = 15\n",
    "cout_materiaux = 10\n",
    "cout_sous_traitant = 25\n",
    "nb_max_sous_traitant = 500\n",
    "nb_max_heures_classique = 35"
   ]
  },
  {
   "cell_type": "markdown",
   "id": "dea3029f",
   "metadata": {},
   "source": [
    "####  Contraintes\n",
    "\n",
    "**Bilan hebdomadaire** :\n",
    "A chaque semaine on a un équilibre entre production totale, retards et besoins :\n",
    "\n",
    "$$\n",
    "S_{s-1} + P_s + ST_s + \\frac{60}{t_a} H_s + R1_s + R2_s = D_s + S_s + R1_{s-1} + R2_{s-2}\n",
    "$$\n",
    "\n",
    "(avec \\( R1_0 = R2_0 = R2_1 = 0 \\) par convention)\n",
    "\n",
    "**Capacité de production** :\n",
    "Cette contrainte garantit que le temps alloué à la production ne dépasse pas la capacité horaire totale des ouvriers sur une semaine (hors heures supp.) :\n",
    "\n",
    "$$\n",
    "P_s \\cdot t_a \\leq n_o \\cdot 35 \\cdot 60\n",
    "$$\n",
    "\n",
    "**Heures supplémentaires** :\n",
    "On impose que les heures supplémentaires par ouvrier ne dépassent pas la limite autorisée :\n",
    "\n",
    "$$\n",
    "H_s \\leq h_s^{\\max} \\cdot n_o\n",
    "$$\n",
    "\n",
    "**Sous-traitance** :\n",
    "Le nombre de vélos sous-traités doit respecter un seuil maximal :\n",
    "\n",
    "$$\n",
    "ST_s \\leq n_{st}^{\\max}\n",
    "$$\n",
    "\n",
    "**Retards bornés** :\n",
    "On limite les retards en fonction de la demande des périodes précédentes :\n",
    "$$\n",
    "R1_s \\leq D_{s-1} \\quad \\text{(pour } s \\geq 1 \\text{)}, \\quad R2_s \\leq D_{s-2} - R1_{s-1} \\quad \\text{(pour } s \\geq 2 \\text{)}\n",
    "$$\n",
    "\n",
    "**Retards non transférables en fin d'horizon** :\n",
    "Les retards ne doivent pas être reportés au-delà de l'horizon :\n",
    "$$\n",
    "R1_{T-1} = 0, \\quad R2_{T-1} = R2_{T-2} = 0\n",
    "$$\n",
    "\n",
    "**Stock initial et final** :\n",
    "Nous imposons que le stock final soit identique au stock initial :\n",
    "\n",
    "$$\n",
    "S_0 = S_T = S_{in}\n",
    "$$"
   ]
  },
  {
   "cell_type": "code",
   "execution_count": 60,
   "id": "e25257b0",
   "metadata": {},
   "outputs": [],
   "source": [
    "contraintes = [S[0] == stock_initial, S[T] == stock_initial,\n",
    "                R1[T-1] == 0, R2[T-1] == 0, R2[T-2] == 0]\n",
    "\n",
    "for s in range(T):\n",
    "        production_totale = P[s] + ST[s] + (H[s] * 60 / duree_assemblage)\n",
    "        demande_totale = demande[s] + (R1[s-1] if s >= 1 else 0) + (R2[s-2] if s >= 2 else 0)\n",
    "        contraintes += [S[s] + production_totale + R1[s] + R2[s] == demande_totale + S[s+1]]\n",
    "        contraintes += [P[s] * duree_assemblage <= nb_ouvriers * nb_max_heures_classique * 60,\n",
    "                        H[s] <= nb_max_heure_sup * nb_ouvriers,\n",
    "                        ST[s] <= nb_max_sous_traitant]\n",
    "\n",
    "for s in range(1, T):\n",
    "        contraintes.append(R1[s] <= demande[s-1])\n",
    "for s in range(2, T):\n",
    "        contraintes.append(R2[s] <= demande[s-2] - R1[s-1])\n"
   ]
  },
  {
   "cell_type": "markdown",
   "id": "25e93164",
   "metadata": {},
   "source": [
    "####  Fonction objectif\n",
    "\n",
    "On cherche à minimiser le coût total :\n",
    "\n",
    "$$\n",
    "\\min \\sum_{s=0}^{T-1} \\left[\n",
    "c_m \\cdot \\left( P_s + \\frac{60}{t_a} H_s \\right)\n",
    "+ c_{HS} \\cdot H_s\n",
    "+ c_{ST} \\cdot ST_s\n",
    "+ c_s \\cdot S_{s+1}\n",
    "+ p_1 \\cdot R1_s\n",
    "+ p_2 \\cdot R2_s\n",
    "\\right]\n",
    "+ n_o \\cdot h_r \\cdot c_o \\cdot T\n",
    "$$\n",
    "\n",
    "où chaque terme représente un poste de coût :\n",
    "\n",
    "- $c_m \\cdot \\left( P_s + \\frac{60}{t_a} H_s \\right)$ : coût des matériaux pour la production standard et via les heures supplémentaires.\n",
    "- $c_{HS} \\cdot H_s$ : coût des heures supplémentaires effectuées à la semaine $s$.\n",
    "- $c_{ST} \\cdot ST_s$ : coût de sous-traitance pour $ST_s$ vélos.\n",
    "- $c_s \\cdot S_{s+1}$ : coût de stockage des vélos non livrés à la fin de la semaine $s$ (on ne considère pas le stock initial).\n",
    "- $p_1 \\cdot R1_s$ : pénalité pour vélos livrés avec une semaine de retard.\n",
    "- $p_2 \\cdot R2_s$ : pénalité pour vélos livrés avec deux semaines de retard.\n",
    "- $n_o \\cdot h_r \\cdot c_o \\cdot T$ : salaire fixe total des ouvriers sur les $T$ semaines.\n",
    "\n",
    "\n",
    "\n",
    "\n",
    "\n",
    "\n"
   ]
  },
  {
   "cell_type": "code",
   "execution_count": 61,
   "id": "aaf2be89",
   "metadata": {},
   "outputs": [],
   "source": [
    "cout_total = cp.sum(\n",
    "        cout_materiaux * (P + (H * 60 / duree_assemblage)) +\n",
    "        cout_heure_sup * H +\n",
    "        cout_sous_traitant * ST +\n",
    "        cout_stockage * S[1:] +\n",
    "        penalite_1semaine * R1 +\n",
    "        penalite_2semaines * R2\n",
    "    ) + nb_ouvriers * nb_heures_remunerees * cout_horaire * T"
   ]
  },
  {
   "cell_type": "markdown",
   "id": "4c9b8a7b",
   "metadata": {},
   "source": [
    "---\n",
    "#### Résolution\n",
    "Une fois la modélisation effectuée, nous appelons un solveur linéaire qui implémente la méthode du dual, en l’occurrence **GLPK**, pour obtenir la solution optimale. La fonction `vecteurs_1_2()` renvoie les vecteurs demandés dans l'énoncé du projet."
   ]
  },
  {
   "cell_type": "code",
   "execution_count": 62,
   "id": "d4555584",
   "metadata": {},
   "outputs": [
    {
     "name": "stdout",
     "output_type": "stream",
     "text": [
      "(array([1750., 2240., 2240., 2240., 2240., 2240., 2200., 2240., 2240.,\n",
      "       2240., 2240.]), array([ 0.,  0.,  0., 70., 80.,  0.,  0.,  0.,  0., 80., 80.]), array([  0.,   0.,   0.,   0., 500.,   0.,   0.,   0.,   0., 150., 500.]), array([  0., 240., 480.,   0.,   0.,   0.,   0., 740., 480., 190., 250.]))\n"
     ]
    }
   ],
   "source": [
    "problem = cp.Problem(cp.Minimize(cout_total), contraintes)\n",
    "problem.solve(solver=cp.GLPK)\n",
    "\n",
    "plan_velos = P.value\n",
    "plan_heure_supp = H.value\n",
    "plan_sous_traitant = ST.value\n",
    "plan_stockage = S.value[1:]\n",
    "R1_val = R1.value\n",
    "R2_val = R2.value\n",
    "\n",
    "def vecteurs_1_2() :\n",
    "\n",
    "    return plan_velos, plan_heure_supp, plan_sous_traitant, plan_stockage\n",
    "print(vecteurs_1_2())"
   ]
  },
  {
   "cell_type": "markdown",
   "id": "36585207",
   "metadata": {},
   "source": [
    "---\n",
    "\n",
    "###  1.3. Illustration et analyse de notre solution optimale\n",
    "Le **coût total minimal** obtenu est :\n",
    "\n",
    "**591 620 €**  \n",
    "(dont **coût variable** : 324 100 €, **salaire fixe des ouvriers** : 267 520 €)\n",
    "\n",
    "\n",
    "\n",
    "\n"
   ]
  },
  {
   "cell_type": "code",
   "execution_count": 63,
   "id": "130e9ba8",
   "metadata": {},
   "outputs": [],
   "source": [
    "plan_velos, plan_heure_supp, plan_sous_traitant, plan_stockage = vecteurs_1_2()\n",
    "\n",
    "weeks = list(range(1, T + 1))\n",
    "prod_total = plan_velos + plan_sous_traitant + (plan_heure_supp * 60 / duree_assemblage)\n",
    "satis_heure = demande - R1_val - R2_val\n",
    "\n",
    "df_all = pd.DataFrame({\n",
    "    \"Semaine\": weeks,\n",
    "    \"Demande\": demande,\n",
    "    \"Prod_standard\": plan_velos,\n",
    "    \"Heures_sup\": plan_heure_supp,\n",
    "    \"Sous_traitance\": plan_sous_traitant,\n",
    "    \"Stock\": plan_stockage,\n",
    "    \"R1\": R1_val,\n",
    "    \"R2\": R2_val,\n",
    "    \"Prod_totale\": prod_total,\n",
    "    \"Livraison à l'heure\": satis_heure\n",
    "})"
   ]
  },
  {
   "cell_type": "code",
   "execution_count": 64,
   "id": "be7450ef",
   "metadata": {},
   "outputs": [
    {
     "data": {
      "text/html": [
       "<style type=\"text/css\">\n",
       "#T_086b7 th {\n",
       "  text-align: center;\n",
       "}\n",
       "#T_086b7_row0_col0, #T_086b7_row0_col1, #T_086b7_row0_col2, #T_086b7_row0_col3, #T_086b7_row0_col4, #T_086b7_row0_col5, #T_086b7_row0_col6, #T_086b7_row0_col7, #T_086b7_row0_col8, #T_086b7_row0_col9, #T_086b7_row1_col0, #T_086b7_row1_col1, #T_086b7_row1_col2, #T_086b7_row1_col3, #T_086b7_row1_col4, #T_086b7_row1_col5, #T_086b7_row1_col6, #T_086b7_row1_col7, #T_086b7_row1_col8, #T_086b7_row1_col9, #T_086b7_row2_col0, #T_086b7_row2_col1, #T_086b7_row2_col2, #T_086b7_row2_col3, #T_086b7_row2_col4, #T_086b7_row2_col5, #T_086b7_row2_col6, #T_086b7_row2_col7, #T_086b7_row2_col8, #T_086b7_row2_col9, #T_086b7_row3_col0, #T_086b7_row3_col1, #T_086b7_row3_col2, #T_086b7_row3_col3, #T_086b7_row3_col4, #T_086b7_row3_col5, #T_086b7_row3_col6, #T_086b7_row3_col7, #T_086b7_row3_col8, #T_086b7_row3_col9, #T_086b7_row4_col0, #T_086b7_row4_col1, #T_086b7_row4_col2, #T_086b7_row4_col3, #T_086b7_row4_col4, #T_086b7_row4_col5, #T_086b7_row4_col6, #T_086b7_row4_col7, #T_086b7_row4_col8, #T_086b7_row4_col9, #T_086b7_row5_col0, #T_086b7_row5_col1, #T_086b7_row5_col2, #T_086b7_row5_col3, #T_086b7_row5_col4, #T_086b7_row5_col5, #T_086b7_row5_col6, #T_086b7_row5_col7, #T_086b7_row5_col8, #T_086b7_row5_col9, #T_086b7_row6_col0, #T_086b7_row6_col1, #T_086b7_row6_col2, #T_086b7_row6_col3, #T_086b7_row6_col4, #T_086b7_row6_col5, #T_086b7_row6_col6, #T_086b7_row6_col7, #T_086b7_row6_col8, #T_086b7_row6_col9, #T_086b7_row7_col0, #T_086b7_row7_col1, #T_086b7_row7_col2, #T_086b7_row7_col3, #T_086b7_row7_col4, #T_086b7_row7_col5, #T_086b7_row7_col6, #T_086b7_row7_col7, #T_086b7_row7_col8, #T_086b7_row7_col9, #T_086b7_row8_col0, #T_086b7_row8_col1, #T_086b7_row8_col2, #T_086b7_row8_col3, #T_086b7_row8_col4, #T_086b7_row8_col5, #T_086b7_row8_col6, #T_086b7_row8_col7, #T_086b7_row8_col8, #T_086b7_row8_col9, #T_086b7_row9_col0, #T_086b7_row9_col1, #T_086b7_row9_col2, #T_086b7_row9_col3, #T_086b7_row9_col4, #T_086b7_row9_col5, #T_086b7_row9_col6, #T_086b7_row9_col7, #T_086b7_row9_col8, #T_086b7_row9_col9, #T_086b7_row10_col0, #T_086b7_row10_col1, #T_086b7_row10_col2, #T_086b7_row10_col3, #T_086b7_row10_col4, #T_086b7_row10_col5, #T_086b7_row10_col6, #T_086b7_row10_col7, #T_086b7_row10_col8, #T_086b7_row10_col9 {\n",
       "  text-align: center;\n",
       "}\n",
       "</style>\n",
       "<table id=\"T_086b7\">\n",
       "  <caption>Résumé hebdomadaire de notre solution optimale</caption>\n",
       "  <thead>\n",
       "    <tr>\n",
       "      <th class=\"blank level0\" >&nbsp;</th>\n",
       "      <th id=\"T_086b7_level0_col0\" class=\"col_heading level0 col0\" >Semaine</th>\n",
       "      <th id=\"T_086b7_level0_col1\" class=\"col_heading level0 col1\" >Prod_standard</th>\n",
       "      <th id=\"T_086b7_level0_col2\" class=\"col_heading level0 col2\" >Heures_sup</th>\n",
       "      <th id=\"T_086b7_level0_col3\" class=\"col_heading level0 col3\" >Sous_traitance</th>\n",
       "      <th id=\"T_086b7_level0_col4\" class=\"col_heading level0 col4\" >Prod_totale</th>\n",
       "      <th id=\"T_086b7_level0_col5\" class=\"col_heading level0 col5\" >Demande</th>\n",
       "      <th id=\"T_086b7_level0_col6\" class=\"col_heading level0 col6\" >Livraison à l'heure</th>\n",
       "      <th id=\"T_086b7_level0_col7\" class=\"col_heading level0 col7\" >R1</th>\n",
       "      <th id=\"T_086b7_level0_col8\" class=\"col_heading level0 col8\" >R2</th>\n",
       "      <th id=\"T_086b7_level0_col9\" class=\"col_heading level0 col9\" >Stock</th>\n",
       "    </tr>\n",
       "  </thead>\n",
       "  <tbody>\n",
       "    <tr>\n",
       "      <th id=\"T_086b7_level0_row0\" class=\"row_heading level0 row0\" >0</th>\n",
       "      <td id=\"T_086b7_row0_col0\" class=\"data row0 col0\" >1</td>\n",
       "      <td id=\"T_086b7_row0_col1\" class=\"data row0 col1\" >1750.000000</td>\n",
       "      <td id=\"T_086b7_row0_col2\" class=\"data row0 col2\" >0.000000</td>\n",
       "      <td id=\"T_086b7_row0_col3\" class=\"data row0 col3\" >0.000000</td>\n",
       "      <td id=\"T_086b7_row0_col4\" class=\"data row0 col4\" >1750.000000</td>\n",
       "      <td id=\"T_086b7_row0_col5\" class=\"data row0 col5\" >2000</td>\n",
       "      <td id=\"T_086b7_row0_col6\" class=\"data row0 col6\" >2000.000000</td>\n",
       "      <td id=\"T_086b7_row0_col7\" class=\"data row0 col7\" >0.000000</td>\n",
       "      <td id=\"T_086b7_row0_col8\" class=\"data row0 col8\" >0.000000</td>\n",
       "      <td id=\"T_086b7_row0_col9\" class=\"data row0 col9\" >0.000000</td>\n",
       "    </tr>\n",
       "    <tr>\n",
       "      <th id=\"T_086b7_level0_row1\" class=\"row_heading level0 row1\" >1</th>\n",
       "      <td id=\"T_086b7_row1_col0\" class=\"data row1 col0\" >2</td>\n",
       "      <td id=\"T_086b7_row1_col1\" class=\"data row1 col1\" >2240.000000</td>\n",
       "      <td id=\"T_086b7_row1_col2\" class=\"data row1 col2\" >0.000000</td>\n",
       "      <td id=\"T_086b7_row1_col3\" class=\"data row1 col3\" >0.000000</td>\n",
       "      <td id=\"T_086b7_row1_col4\" class=\"data row1 col4\" >2240.000000</td>\n",
       "      <td id=\"T_086b7_row1_col5\" class=\"data row1 col5\" >2000</td>\n",
       "      <td id=\"T_086b7_row1_col6\" class=\"data row1 col6\" >2000.000000</td>\n",
       "      <td id=\"T_086b7_row1_col7\" class=\"data row1 col7\" >0.000000</td>\n",
       "      <td id=\"T_086b7_row1_col8\" class=\"data row1 col8\" >0.000000</td>\n",
       "      <td id=\"T_086b7_row1_col9\" class=\"data row1 col9\" >240.000000</td>\n",
       "    </tr>\n",
       "    <tr>\n",
       "      <th id=\"T_086b7_level0_row2\" class=\"row_heading level0 row2\" >2</th>\n",
       "      <td id=\"T_086b7_row2_col0\" class=\"data row2 col0\" >3</td>\n",
       "      <td id=\"T_086b7_row2_col1\" class=\"data row2 col1\" >2240.000000</td>\n",
       "      <td id=\"T_086b7_row2_col2\" class=\"data row2 col2\" >0.000000</td>\n",
       "      <td id=\"T_086b7_row2_col3\" class=\"data row2 col3\" >0.000000</td>\n",
       "      <td id=\"T_086b7_row2_col4\" class=\"data row2 col4\" >2240.000000</td>\n",
       "      <td id=\"T_086b7_row2_col5\" class=\"data row2 col5\" >2000</td>\n",
       "      <td id=\"T_086b7_row2_col6\" class=\"data row2 col6\" >2000.000000</td>\n",
       "      <td id=\"T_086b7_row2_col7\" class=\"data row2 col7\" >0.000000</td>\n",
       "      <td id=\"T_086b7_row2_col8\" class=\"data row2 col8\" >0.000000</td>\n",
       "      <td id=\"T_086b7_row2_col9\" class=\"data row2 col9\" >480.000000</td>\n",
       "    </tr>\n",
       "    <tr>\n",
       "      <th id=\"T_086b7_level0_row3\" class=\"row_heading level0 row3\" >3</th>\n",
       "      <td id=\"T_086b7_row3_col0\" class=\"data row3 col0\" >4</td>\n",
       "      <td id=\"T_086b7_row3_col1\" class=\"data row3 col1\" >2240.000000</td>\n",
       "      <td id=\"T_086b7_row3_col2\" class=\"data row3 col2\" >70.000000</td>\n",
       "      <td id=\"T_086b7_row3_col3\" class=\"data row3 col3\" >0.000000</td>\n",
       "      <td id=\"T_086b7_row3_col4\" class=\"data row3 col4\" >2520.000000</td>\n",
       "      <td id=\"T_086b7_row3_col5\" class=\"data row3 col5\" >3000</td>\n",
       "      <td id=\"T_086b7_row3_col6\" class=\"data row3 col6\" >3000.000000</td>\n",
       "      <td id=\"T_086b7_row3_col7\" class=\"data row3 col7\" >0.000000</td>\n",
       "      <td id=\"T_086b7_row3_col8\" class=\"data row3 col8\" >0.000000</td>\n",
       "      <td id=\"T_086b7_row3_col9\" class=\"data row3 col9\" >0.000000</td>\n",
       "    </tr>\n",
       "    <tr>\n",
       "      <th id=\"T_086b7_level0_row4\" class=\"row_heading level0 row4\" >4</th>\n",
       "      <td id=\"T_086b7_row4_col0\" class=\"data row4 col0\" >5</td>\n",
       "      <td id=\"T_086b7_row4_col1\" class=\"data row4 col1\" >2240.000000</td>\n",
       "      <td id=\"T_086b7_row4_col2\" class=\"data row4 col2\" >80.000000</td>\n",
       "      <td id=\"T_086b7_row4_col3\" class=\"data row4 col3\" >500.000000</td>\n",
       "      <td id=\"T_086b7_row4_col4\" class=\"data row4 col4\" >3060.000000</td>\n",
       "      <td id=\"T_086b7_row4_col5\" class=\"data row4 col5\" >4000</td>\n",
       "      <td id=\"T_086b7_row4_col6\" class=\"data row4 col6\" >3060.000000</td>\n",
       "      <td id=\"T_086b7_row4_col7\" class=\"data row4 col7\" >240.000000</td>\n",
       "      <td id=\"T_086b7_row4_col8\" class=\"data row4 col8\" >700.000000</td>\n",
       "      <td id=\"T_086b7_row4_col9\" class=\"data row4 col9\" >0.000000</td>\n",
       "    </tr>\n",
       "    <tr>\n",
       "      <th id=\"T_086b7_level0_row5\" class=\"row_heading level0 row5\" >5</th>\n",
       "      <td id=\"T_086b7_row5_col0\" class=\"data row5 col0\" >6</td>\n",
       "      <td id=\"T_086b7_row5_col1\" class=\"data row5 col1\" >2240.000000</td>\n",
       "      <td id=\"T_086b7_row5_col2\" class=\"data row5 col2\" >0.000000</td>\n",
       "      <td id=\"T_086b7_row5_col3\" class=\"data row5 col3\" >0.000000</td>\n",
       "      <td id=\"T_086b7_row5_col4\" class=\"data row5 col4\" >2240.000000</td>\n",
       "      <td id=\"T_086b7_row5_col5\" class=\"data row5 col5\" >2000</td>\n",
       "      <td id=\"T_086b7_row5_col6\" class=\"data row5 col6\" >2000.000000</td>\n",
       "      <td id=\"T_086b7_row5_col7\" class=\"data row5 col7\" >0.000000</td>\n",
       "      <td id=\"T_086b7_row5_col8\" class=\"data row5 col8\" >0.000000</td>\n",
       "      <td id=\"T_086b7_row5_col9\" class=\"data row5 col9\" >0.000000</td>\n",
       "    </tr>\n",
       "    <tr>\n",
       "      <th id=\"T_086b7_level0_row6\" class=\"row_heading level0 row6\" >6</th>\n",
       "      <td id=\"T_086b7_row6_col0\" class=\"data row6 col0\" >7</td>\n",
       "      <td id=\"T_086b7_row6_col1\" class=\"data row6 col1\" >2200.000000</td>\n",
       "      <td id=\"T_086b7_row6_col2\" class=\"data row6 col2\" >0.000000</td>\n",
       "      <td id=\"T_086b7_row6_col3\" class=\"data row6 col3\" >0.000000</td>\n",
       "      <td id=\"T_086b7_row6_col4\" class=\"data row6 col4\" >2200.000000</td>\n",
       "      <td id=\"T_086b7_row6_col5\" class=\"data row6 col5\" >1500</td>\n",
       "      <td id=\"T_086b7_row6_col6\" class=\"data row6 col6\" >1500.000000</td>\n",
       "      <td id=\"T_086b7_row6_col7\" class=\"data row6 col7\" >0.000000</td>\n",
       "      <td id=\"T_086b7_row6_col8\" class=\"data row6 col8\" >0.000000</td>\n",
       "      <td id=\"T_086b7_row6_col9\" class=\"data row6 col9\" >0.000000</td>\n",
       "    </tr>\n",
       "    <tr>\n",
       "      <th id=\"T_086b7_level0_row7\" class=\"row_heading level0 row7\" >7</th>\n",
       "      <td id=\"T_086b7_row7_col0\" class=\"data row7 col0\" >8</td>\n",
       "      <td id=\"T_086b7_row7_col1\" class=\"data row7 col1\" >2240.000000</td>\n",
       "      <td id=\"T_086b7_row7_col2\" class=\"data row7 col2\" >0.000000</td>\n",
       "      <td id=\"T_086b7_row7_col3\" class=\"data row7 col3\" >0.000000</td>\n",
       "      <td id=\"T_086b7_row7_col4\" class=\"data row7 col4\" >2240.000000</td>\n",
       "      <td id=\"T_086b7_row7_col5\" class=\"data row7 col5\" >1500</td>\n",
       "      <td id=\"T_086b7_row7_col6\" class=\"data row7 col6\" >1500.000000</td>\n",
       "      <td id=\"T_086b7_row7_col7\" class=\"data row7 col7\" >0.000000</td>\n",
       "      <td id=\"T_086b7_row7_col8\" class=\"data row7 col8\" >0.000000</td>\n",
       "      <td id=\"T_086b7_row7_col9\" class=\"data row7 col9\" >740.000000</td>\n",
       "    </tr>\n",
       "    <tr>\n",
       "      <th id=\"T_086b7_level0_row8\" class=\"row_heading level0 row8\" >8</th>\n",
       "      <td id=\"T_086b7_row8_col0\" class=\"data row8 col0\" >9</td>\n",
       "      <td id=\"T_086b7_row8_col1\" class=\"data row8 col1\" >2240.000000</td>\n",
       "      <td id=\"T_086b7_row8_col2\" class=\"data row8 col2\" >0.000000</td>\n",
       "      <td id=\"T_086b7_row8_col3\" class=\"data row8 col3\" >0.000000</td>\n",
       "      <td id=\"T_086b7_row8_col4\" class=\"data row8 col4\" >2240.000000</td>\n",
       "      <td id=\"T_086b7_row8_col5\" class=\"data row8 col5\" >2500</td>\n",
       "      <td id=\"T_086b7_row8_col6\" class=\"data row8 col6\" >2500.000000</td>\n",
       "      <td id=\"T_086b7_row8_col7\" class=\"data row8 col7\" >0.000000</td>\n",
       "      <td id=\"T_086b7_row8_col8\" class=\"data row8 col8\" >0.000000</td>\n",
       "      <td id=\"T_086b7_row8_col9\" class=\"data row8 col9\" >480.000000</td>\n",
       "    </tr>\n",
       "    <tr>\n",
       "      <th id=\"T_086b7_level0_row9\" class=\"row_heading level0 row9\" >9</th>\n",
       "      <td id=\"T_086b7_row9_col0\" class=\"data row9 col0\" >10</td>\n",
       "      <td id=\"T_086b7_row9_col1\" class=\"data row9 col1\" >2240.000000</td>\n",
       "      <td id=\"T_086b7_row9_col2\" class=\"data row9 col2\" >80.000000</td>\n",
       "      <td id=\"T_086b7_row9_col3\" class=\"data row9 col3\" >150.000000</td>\n",
       "      <td id=\"T_086b7_row9_col4\" class=\"data row9 col4\" >2710.000000</td>\n",
       "      <td id=\"T_086b7_row9_col5\" class=\"data row9 col5\" >3000</td>\n",
       "      <td id=\"T_086b7_row9_col6\" class=\"data row9 col6\" >3000.000000</td>\n",
       "      <td id=\"T_086b7_row9_col7\" class=\"data row9 col7\" >0.000000</td>\n",
       "      <td id=\"T_086b7_row9_col8\" class=\"data row9 col8\" >0.000000</td>\n",
       "      <td id=\"T_086b7_row9_col9\" class=\"data row9 col9\" >190.000000</td>\n",
       "    </tr>\n",
       "    <tr>\n",
       "      <th id=\"T_086b7_level0_row10\" class=\"row_heading level0 row10\" >10</th>\n",
       "      <td id=\"T_086b7_row10_col0\" class=\"data row10 col0\" >11</td>\n",
       "      <td id=\"T_086b7_row10_col1\" class=\"data row10 col1\" >2240.000000</td>\n",
       "      <td id=\"T_086b7_row10_col2\" class=\"data row10 col2\" >80.000000</td>\n",
       "      <td id=\"T_086b7_row10_col3\" class=\"data row10 col3\" >500.000000</td>\n",
       "      <td id=\"T_086b7_row10_col4\" class=\"data row10 col4\" >3060.000000</td>\n",
       "      <td id=\"T_086b7_row10_col5\" class=\"data row10 col5\" >3000</td>\n",
       "      <td id=\"T_086b7_row10_col6\" class=\"data row10 col6\" >3000.000000</td>\n",
       "      <td id=\"T_086b7_row10_col7\" class=\"data row10 col7\" >0.000000</td>\n",
       "      <td id=\"T_086b7_row10_col8\" class=\"data row10 col8\" >0.000000</td>\n",
       "      <td id=\"T_086b7_row10_col9\" class=\"data row10 col9\" >250.000000</td>\n",
       "    </tr>\n",
       "  </tbody>\n",
       "</table>\n"
      ],
      "text/plain": [
       "<pandas.io.formats.style.Styler at 0x1dd0e0dcbc0>"
      ]
     },
     "execution_count": 64,
     "metadata": {},
     "output_type": "execute_result"
    }
   ],
   "source": [
    "df_affiche = df_all[[\n",
    "    \"Semaine\", \"Prod_standard\", \"Heures_sup\", \"Sous_traitance\",\n",
    "    \"Prod_totale\", \"Demande\", \"Livraison à l'heure\", \"R1\", \"R2\", \"Stock\"\n",
    "]]\n",
    "\n",
    "df_affiche.style.set_properties(**{\n",
    "    'text-align': 'center'\n",
    "}).set_table_styles([\n",
    "    dict(selector='th', props=[('text-align', 'center')])\n",
    "]).set_caption(\"Résumé hebdomadaire de notre solution optimale\")\n"
   ]
  },
  {
   "cell_type": "markdown",
   "id": "7b7314fa",
   "metadata": {},
   "source": [
    "Le tableau ci-dessus présente un résumé semaine par semaine des résultats obtenus."
   ]
  },
  {
   "cell_type": "code",
   "execution_count": 65,
   "id": "f58e02c7",
   "metadata": {},
   "outputs": [
    {
     "data": {
      "application/vnd.plotly.v1+json": {
       "config": {
        "plotlyServerURL": "https://plot.ly"
       },
       "data": [
        {
         "marker": {
          "color": "lightgreen"
         },
         "name": "Livraison à l'heure",
         "type": "bar",
         "x": [
          1,
          2,
          3,
          4,
          5,
          6,
          7,
          8,
          9,
          10,
          11
         ],
         "y": [
          2000,
          2000,
          2000,
          3000,
          3060,
          2000,
          1500,
          1500,
          2500,
          3000,
          3000
         ]
        },
        {
         "marker": {
          "color": "gold"
         },
         "name": "Retard 1 semaine",
         "type": "bar",
         "x": [
          1,
          2,
          3,
          4,
          5,
          6,
          7,
          8,
          9,
          10,
          11
         ],
         "y": [
          0,
          0,
          0,
          0,
          240,
          0,
          0,
          0,
          0,
          0,
          0
         ]
        },
        {
         "marker": {
          "color": "tomato"
         },
         "name": "Retard 2 semaines",
         "type": "bar",
         "x": [
          1,
          2,
          3,
          4,
          5,
          6,
          7,
          8,
          9,
          10,
          11
         ],
         "y": [
          0,
          0,
          0,
          0,
          700,
          0,
          0,
          0,
          0,
          0,
          0
         ]
        },
        {
         "line": {
          "color": "black",
          "dash": "dash"
         },
         "mode": "lines+markers",
         "name": "Demande",
         "type": "scatter",
         "x": [
          1,
          2,
          3,
          4,
          5,
          6,
          7,
          8,
          9,
          10,
          11
         ],
         "y": [
          2000,
          2000,
          2000,
          3000,
          4000,
          2000,
          1500,
          1500,
          2500,
          3000,
          3000
         ]
        }
       ],
       "layout": {
        "barmode": "stack",
        "template": {
         "data": {
          "bar": [
           {
            "error_x": {
             "color": "rgb(36,36,36)"
            },
            "error_y": {
             "color": "rgb(36,36,36)"
            },
            "marker": {
             "line": {
              "color": "white",
              "width": 0.5
             },
             "pattern": {
              "fillmode": "overlay",
              "size": 10,
              "solidity": 0.2
             }
            },
            "type": "bar"
           }
          ],
          "barpolar": [
           {
            "marker": {
             "line": {
              "color": "white",
              "width": 0.5
             },
             "pattern": {
              "fillmode": "overlay",
              "size": 10,
              "solidity": 0.2
             }
            },
            "type": "barpolar"
           }
          ],
          "carpet": [
           {
            "aaxis": {
             "endlinecolor": "rgb(36,36,36)",
             "gridcolor": "white",
             "linecolor": "white",
             "minorgridcolor": "white",
             "startlinecolor": "rgb(36,36,36)"
            },
            "baxis": {
             "endlinecolor": "rgb(36,36,36)",
             "gridcolor": "white",
             "linecolor": "white",
             "minorgridcolor": "white",
             "startlinecolor": "rgb(36,36,36)"
            },
            "type": "carpet"
           }
          ],
          "choropleth": [
           {
            "colorbar": {
             "outlinewidth": 1,
             "tickcolor": "rgb(36,36,36)",
             "ticks": "outside"
            },
            "type": "choropleth"
           }
          ],
          "contour": [
           {
            "colorbar": {
             "outlinewidth": 1,
             "tickcolor": "rgb(36,36,36)",
             "ticks": "outside"
            },
            "colorscale": [
             [
              0,
              "#440154"
             ],
             [
              0.1111111111111111,
              "#482878"
             ],
             [
              0.2222222222222222,
              "#3e4989"
             ],
             [
              0.3333333333333333,
              "#31688e"
             ],
             [
              0.4444444444444444,
              "#26828e"
             ],
             [
              0.5555555555555556,
              "#1f9e89"
             ],
             [
              0.6666666666666666,
              "#35b779"
             ],
             [
              0.7777777777777778,
              "#6ece58"
             ],
             [
              0.8888888888888888,
              "#b5de2b"
             ],
             [
              1,
              "#fde725"
             ]
            ],
            "type": "contour"
           }
          ],
          "contourcarpet": [
           {
            "colorbar": {
             "outlinewidth": 1,
             "tickcolor": "rgb(36,36,36)",
             "ticks": "outside"
            },
            "type": "contourcarpet"
           }
          ],
          "heatmap": [
           {
            "colorbar": {
             "outlinewidth": 1,
             "tickcolor": "rgb(36,36,36)",
             "ticks": "outside"
            },
            "colorscale": [
             [
              0,
              "#440154"
             ],
             [
              0.1111111111111111,
              "#482878"
             ],
             [
              0.2222222222222222,
              "#3e4989"
             ],
             [
              0.3333333333333333,
              "#31688e"
             ],
             [
              0.4444444444444444,
              "#26828e"
             ],
             [
              0.5555555555555556,
              "#1f9e89"
             ],
             [
              0.6666666666666666,
              "#35b779"
             ],
             [
              0.7777777777777778,
              "#6ece58"
             ],
             [
              0.8888888888888888,
              "#b5de2b"
             ],
             [
              1,
              "#fde725"
             ]
            ],
            "type": "heatmap"
           }
          ],
          "heatmapgl": [
           {
            "colorbar": {
             "outlinewidth": 1,
             "tickcolor": "rgb(36,36,36)",
             "ticks": "outside"
            },
            "colorscale": [
             [
              0,
              "#440154"
             ],
             [
              0.1111111111111111,
              "#482878"
             ],
             [
              0.2222222222222222,
              "#3e4989"
             ],
             [
              0.3333333333333333,
              "#31688e"
             ],
             [
              0.4444444444444444,
              "#26828e"
             ],
             [
              0.5555555555555556,
              "#1f9e89"
             ],
             [
              0.6666666666666666,
              "#35b779"
             ],
             [
              0.7777777777777778,
              "#6ece58"
             ],
             [
              0.8888888888888888,
              "#b5de2b"
             ],
             [
              1,
              "#fde725"
             ]
            ],
            "type": "heatmapgl"
           }
          ],
          "histogram": [
           {
            "marker": {
             "line": {
              "color": "white",
              "width": 0.6
             }
            },
            "type": "histogram"
           }
          ],
          "histogram2d": [
           {
            "colorbar": {
             "outlinewidth": 1,
             "tickcolor": "rgb(36,36,36)",
             "ticks": "outside"
            },
            "colorscale": [
             [
              0,
              "#440154"
             ],
             [
              0.1111111111111111,
              "#482878"
             ],
             [
              0.2222222222222222,
              "#3e4989"
             ],
             [
              0.3333333333333333,
              "#31688e"
             ],
             [
              0.4444444444444444,
              "#26828e"
             ],
             [
              0.5555555555555556,
              "#1f9e89"
             ],
             [
              0.6666666666666666,
              "#35b779"
             ],
             [
              0.7777777777777778,
              "#6ece58"
             ],
             [
              0.8888888888888888,
              "#b5de2b"
             ],
             [
              1,
              "#fde725"
             ]
            ],
            "type": "histogram2d"
           }
          ],
          "histogram2dcontour": [
           {
            "colorbar": {
             "outlinewidth": 1,
             "tickcolor": "rgb(36,36,36)",
             "ticks": "outside"
            },
            "colorscale": [
             [
              0,
              "#440154"
             ],
             [
              0.1111111111111111,
              "#482878"
             ],
             [
              0.2222222222222222,
              "#3e4989"
             ],
             [
              0.3333333333333333,
              "#31688e"
             ],
             [
              0.4444444444444444,
              "#26828e"
             ],
             [
              0.5555555555555556,
              "#1f9e89"
             ],
             [
              0.6666666666666666,
              "#35b779"
             ],
             [
              0.7777777777777778,
              "#6ece58"
             ],
             [
              0.8888888888888888,
              "#b5de2b"
             ],
             [
              1,
              "#fde725"
             ]
            ],
            "type": "histogram2dcontour"
           }
          ],
          "mesh3d": [
           {
            "colorbar": {
             "outlinewidth": 1,
             "tickcolor": "rgb(36,36,36)",
             "ticks": "outside"
            },
            "type": "mesh3d"
           }
          ],
          "parcoords": [
           {
            "line": {
             "colorbar": {
              "outlinewidth": 1,
              "tickcolor": "rgb(36,36,36)",
              "ticks": "outside"
             }
            },
            "type": "parcoords"
           }
          ],
          "pie": [
           {
            "automargin": true,
            "type": "pie"
           }
          ],
          "scatter": [
           {
            "fillpattern": {
             "fillmode": "overlay",
             "size": 10,
             "solidity": 0.2
            },
            "type": "scatter"
           }
          ],
          "scatter3d": [
           {
            "line": {
             "colorbar": {
              "outlinewidth": 1,
              "tickcolor": "rgb(36,36,36)",
              "ticks": "outside"
             }
            },
            "marker": {
             "colorbar": {
              "outlinewidth": 1,
              "tickcolor": "rgb(36,36,36)",
              "ticks": "outside"
             }
            },
            "type": "scatter3d"
           }
          ],
          "scattercarpet": [
           {
            "marker": {
             "colorbar": {
              "outlinewidth": 1,
              "tickcolor": "rgb(36,36,36)",
              "ticks": "outside"
             }
            },
            "type": "scattercarpet"
           }
          ],
          "scattergeo": [
           {
            "marker": {
             "colorbar": {
              "outlinewidth": 1,
              "tickcolor": "rgb(36,36,36)",
              "ticks": "outside"
             }
            },
            "type": "scattergeo"
           }
          ],
          "scattergl": [
           {
            "marker": {
             "colorbar": {
              "outlinewidth": 1,
              "tickcolor": "rgb(36,36,36)",
              "ticks": "outside"
             }
            },
            "type": "scattergl"
           }
          ],
          "scattermapbox": [
           {
            "marker": {
             "colorbar": {
              "outlinewidth": 1,
              "tickcolor": "rgb(36,36,36)",
              "ticks": "outside"
             }
            },
            "type": "scattermapbox"
           }
          ],
          "scatterpolar": [
           {
            "marker": {
             "colorbar": {
              "outlinewidth": 1,
              "tickcolor": "rgb(36,36,36)",
              "ticks": "outside"
             }
            },
            "type": "scatterpolar"
           }
          ],
          "scatterpolargl": [
           {
            "marker": {
             "colorbar": {
              "outlinewidth": 1,
              "tickcolor": "rgb(36,36,36)",
              "ticks": "outside"
             }
            },
            "type": "scatterpolargl"
           }
          ],
          "scatterternary": [
           {
            "marker": {
             "colorbar": {
              "outlinewidth": 1,
              "tickcolor": "rgb(36,36,36)",
              "ticks": "outside"
             }
            },
            "type": "scatterternary"
           }
          ],
          "surface": [
           {
            "colorbar": {
             "outlinewidth": 1,
             "tickcolor": "rgb(36,36,36)",
             "ticks": "outside"
            },
            "colorscale": [
             [
              0,
              "#440154"
             ],
             [
              0.1111111111111111,
              "#482878"
             ],
             [
              0.2222222222222222,
              "#3e4989"
             ],
             [
              0.3333333333333333,
              "#31688e"
             ],
             [
              0.4444444444444444,
              "#26828e"
             ],
             [
              0.5555555555555556,
              "#1f9e89"
             ],
             [
              0.6666666666666666,
              "#35b779"
             ],
             [
              0.7777777777777778,
              "#6ece58"
             ],
             [
              0.8888888888888888,
              "#b5de2b"
             ],
             [
              1,
              "#fde725"
             ]
            ],
            "type": "surface"
           }
          ],
          "table": [
           {
            "cells": {
             "fill": {
              "color": "rgb(237,237,237)"
             },
             "line": {
              "color": "white"
             }
            },
            "header": {
             "fill": {
              "color": "rgb(217,217,217)"
             },
             "line": {
              "color": "white"
             }
            },
            "type": "table"
           }
          ]
         },
         "layout": {
          "annotationdefaults": {
           "arrowhead": 0,
           "arrowwidth": 1
          },
          "autotypenumbers": "strict",
          "coloraxis": {
           "colorbar": {
            "outlinewidth": 1,
            "tickcolor": "rgb(36,36,36)",
            "ticks": "outside"
           }
          },
          "colorscale": {
           "diverging": [
            [
             0,
             "rgb(103,0,31)"
            ],
            [
             0.1,
             "rgb(178,24,43)"
            ],
            [
             0.2,
             "rgb(214,96,77)"
            ],
            [
             0.3,
             "rgb(244,165,130)"
            ],
            [
             0.4,
             "rgb(253,219,199)"
            ],
            [
             0.5,
             "rgb(247,247,247)"
            ],
            [
             0.6,
             "rgb(209,229,240)"
            ],
            [
             0.7,
             "rgb(146,197,222)"
            ],
            [
             0.8,
             "rgb(67,147,195)"
            ],
            [
             0.9,
             "rgb(33,102,172)"
            ],
            [
             1,
             "rgb(5,48,97)"
            ]
           ],
           "sequential": [
            [
             0,
             "#440154"
            ],
            [
             0.1111111111111111,
             "#482878"
            ],
            [
             0.2222222222222222,
             "#3e4989"
            ],
            [
             0.3333333333333333,
             "#31688e"
            ],
            [
             0.4444444444444444,
             "#26828e"
            ],
            [
             0.5555555555555556,
             "#1f9e89"
            ],
            [
             0.6666666666666666,
             "#35b779"
            ],
            [
             0.7777777777777778,
             "#6ece58"
            ],
            [
             0.8888888888888888,
             "#b5de2b"
            ],
            [
             1,
             "#fde725"
            ]
           ],
           "sequentialminus": [
            [
             0,
             "#440154"
            ],
            [
             0.1111111111111111,
             "#482878"
            ],
            [
             0.2222222222222222,
             "#3e4989"
            ],
            [
             0.3333333333333333,
             "#31688e"
            ],
            [
             0.4444444444444444,
             "#26828e"
            ],
            [
             0.5555555555555556,
             "#1f9e89"
            ],
            [
             0.6666666666666666,
             "#35b779"
            ],
            [
             0.7777777777777778,
             "#6ece58"
            ],
            [
             0.8888888888888888,
             "#b5de2b"
            ],
            [
             1,
             "#fde725"
            ]
           ]
          },
          "colorway": [
           "#1F77B4",
           "#FF7F0E",
           "#2CA02C",
           "#D62728",
           "#9467BD",
           "#8C564B",
           "#E377C2",
           "#7F7F7F",
           "#BCBD22",
           "#17BECF"
          ],
          "font": {
           "color": "rgb(36,36,36)"
          },
          "geo": {
           "bgcolor": "white",
           "lakecolor": "white",
           "landcolor": "white",
           "showlakes": true,
           "showland": true,
           "subunitcolor": "white"
          },
          "hoverlabel": {
           "align": "left"
          },
          "hovermode": "closest",
          "mapbox": {
           "style": "light"
          },
          "paper_bgcolor": "white",
          "plot_bgcolor": "white",
          "polar": {
           "angularaxis": {
            "gridcolor": "rgb(232,232,232)",
            "linecolor": "rgb(36,36,36)",
            "showgrid": false,
            "showline": true,
            "ticks": "outside"
           },
           "bgcolor": "white",
           "radialaxis": {
            "gridcolor": "rgb(232,232,232)",
            "linecolor": "rgb(36,36,36)",
            "showgrid": false,
            "showline": true,
            "ticks": "outside"
           }
          },
          "scene": {
           "xaxis": {
            "backgroundcolor": "white",
            "gridcolor": "rgb(232,232,232)",
            "gridwidth": 2,
            "linecolor": "rgb(36,36,36)",
            "showbackground": true,
            "showgrid": false,
            "showline": true,
            "ticks": "outside",
            "zeroline": false,
            "zerolinecolor": "rgb(36,36,36)"
           },
           "yaxis": {
            "backgroundcolor": "white",
            "gridcolor": "rgb(232,232,232)",
            "gridwidth": 2,
            "linecolor": "rgb(36,36,36)",
            "showbackground": true,
            "showgrid": false,
            "showline": true,
            "ticks": "outside",
            "zeroline": false,
            "zerolinecolor": "rgb(36,36,36)"
           },
           "zaxis": {
            "backgroundcolor": "white",
            "gridcolor": "rgb(232,232,232)",
            "gridwidth": 2,
            "linecolor": "rgb(36,36,36)",
            "showbackground": true,
            "showgrid": false,
            "showline": true,
            "ticks": "outside",
            "zeroline": false,
            "zerolinecolor": "rgb(36,36,36)"
           }
          },
          "shapedefaults": {
           "fillcolor": "black",
           "line": {
            "width": 0
           },
           "opacity": 0.3
          },
          "ternary": {
           "aaxis": {
            "gridcolor": "rgb(232,232,232)",
            "linecolor": "rgb(36,36,36)",
            "showgrid": false,
            "showline": true,
            "ticks": "outside"
           },
           "baxis": {
            "gridcolor": "rgb(232,232,232)",
            "linecolor": "rgb(36,36,36)",
            "showgrid": false,
            "showline": true,
            "ticks": "outside"
           },
           "bgcolor": "white",
           "caxis": {
            "gridcolor": "rgb(232,232,232)",
            "linecolor": "rgb(36,36,36)",
            "showgrid": false,
            "showline": true,
            "ticks": "outside"
           }
          },
          "title": {
           "x": 0.05
          },
          "xaxis": {
           "automargin": true,
           "gridcolor": "rgb(232,232,232)",
           "linecolor": "rgb(36,36,36)",
           "showgrid": false,
           "showline": true,
           "ticks": "outside",
           "title": {
            "standoff": 15
           },
           "zeroline": false,
           "zerolinecolor": "rgb(36,36,36)"
          },
          "yaxis": {
           "automargin": true,
           "gridcolor": "rgb(232,232,232)",
           "linecolor": "rgb(36,36,36)",
           "showgrid": false,
           "showline": true,
           "ticks": "outside",
           "title": {
            "standoff": 15
           },
           "zeroline": false,
           "zerolinecolor": "rgb(36,36,36)"
          }
         }
        },
        "title": {
         "text": "Livraison hebdomadaire avec retards causés"
        },
        "xaxis": {
         "title": {
          "text": "Semaine [-]"
         }
        },
        "yaxis": {
         "title": {
          "text": "Nombre de vélos [-]"
         }
        }
       }
      }
     },
     "metadata": {},
     "output_type": "display_data"
    }
   ],
   "source": [
    "df_all[\"Satisfaction\"] = df_all[\"Demande\"] - df_all[\"R1\"] - df_all[\"R2\"]\n",
    "fig = go.Figure()\n",
    "fig.add_trace(go.Bar(x=df_all[\"Semaine\"], y=df_all[\"Satisfaction\"], name=\"Livraison à l'heure\", marker_color=\"lightgreen\"))\n",
    "fig.add_trace(go.Bar(x=df_all[\"Semaine\"], y=df_all[\"R1\"], name=\"Retard 1 semaine\", marker_color=\"gold\"))\n",
    "fig.add_trace(go.Bar(x=df_all[\"Semaine\"], y=df_all[\"R2\"], name=\"Retard 2 semaines\", marker_color=\"tomato\"))\n",
    "fig.add_trace(go.Scatter(x=df_all[\"Semaine\"], y=df_all[\"Demande\"], name=\"Demande\", mode=\"lines+markers\", line=dict(color=\"black\", dash=\"dash\")))\n",
    "fig.update_layout(barmode='stack', title=\"Livraison hebdomadaire avec retards causés\", xaxis_title=\"Semaine [-]\", yaxis_title=\"Nombre de vélos [-]\", template=\"simple_white\")\n",
    "fig.show()"
   ]
  },
  {
   "cell_type": "markdown",
   "id": "b2bfb020",
   "metadata": {},
   "source": [
    "Le graphique ci-dessus vérifie que la demande est systématiquement satisfaite, soit à l’heure (barres vertes), soit avec un léger retard (barres jaunes et rouges), tout en maintenant un équilibre global semaine après semaine."
   ]
  },
  {
   "cell_type": "code",
   "execution_count": 66,
   "id": "da8808d7",
   "metadata": {},
   "outputs": [
    {
     "data": {
      "application/vnd.plotly.v1+json": {
       "config": {
        "plotlyServerURL": "https://plot.ly"
       },
       "data": [
        {
         "hole": 0.3,
         "labels": [
          "Production standard",
          "Heures supplémentaires",
          "Sous-traitance"
         ],
         "marker": {
          "colors": [
           "royalblue",
           "orange",
           "mediumpurple"
          ]
         },
         "type": "pie",
         "values": [
          24110,
          1240,
          1150
         ]
        }
       ],
       "layout": {
        "template": {
         "data": {
          "bar": [
           {
            "error_x": {
             "color": "rgb(36,36,36)"
            },
            "error_y": {
             "color": "rgb(36,36,36)"
            },
            "marker": {
             "line": {
              "color": "white",
              "width": 0.5
             },
             "pattern": {
              "fillmode": "overlay",
              "size": 10,
              "solidity": 0.2
             }
            },
            "type": "bar"
           }
          ],
          "barpolar": [
           {
            "marker": {
             "line": {
              "color": "white",
              "width": 0.5
             },
             "pattern": {
              "fillmode": "overlay",
              "size": 10,
              "solidity": 0.2
             }
            },
            "type": "barpolar"
           }
          ],
          "carpet": [
           {
            "aaxis": {
             "endlinecolor": "rgb(36,36,36)",
             "gridcolor": "white",
             "linecolor": "white",
             "minorgridcolor": "white",
             "startlinecolor": "rgb(36,36,36)"
            },
            "baxis": {
             "endlinecolor": "rgb(36,36,36)",
             "gridcolor": "white",
             "linecolor": "white",
             "minorgridcolor": "white",
             "startlinecolor": "rgb(36,36,36)"
            },
            "type": "carpet"
           }
          ],
          "choropleth": [
           {
            "colorbar": {
             "outlinewidth": 1,
             "tickcolor": "rgb(36,36,36)",
             "ticks": "outside"
            },
            "type": "choropleth"
           }
          ],
          "contour": [
           {
            "colorbar": {
             "outlinewidth": 1,
             "tickcolor": "rgb(36,36,36)",
             "ticks": "outside"
            },
            "colorscale": [
             [
              0,
              "#440154"
             ],
             [
              0.1111111111111111,
              "#482878"
             ],
             [
              0.2222222222222222,
              "#3e4989"
             ],
             [
              0.3333333333333333,
              "#31688e"
             ],
             [
              0.4444444444444444,
              "#26828e"
             ],
             [
              0.5555555555555556,
              "#1f9e89"
             ],
             [
              0.6666666666666666,
              "#35b779"
             ],
             [
              0.7777777777777778,
              "#6ece58"
             ],
             [
              0.8888888888888888,
              "#b5de2b"
             ],
             [
              1,
              "#fde725"
             ]
            ],
            "type": "contour"
           }
          ],
          "contourcarpet": [
           {
            "colorbar": {
             "outlinewidth": 1,
             "tickcolor": "rgb(36,36,36)",
             "ticks": "outside"
            },
            "type": "contourcarpet"
           }
          ],
          "heatmap": [
           {
            "colorbar": {
             "outlinewidth": 1,
             "tickcolor": "rgb(36,36,36)",
             "ticks": "outside"
            },
            "colorscale": [
             [
              0,
              "#440154"
             ],
             [
              0.1111111111111111,
              "#482878"
             ],
             [
              0.2222222222222222,
              "#3e4989"
             ],
             [
              0.3333333333333333,
              "#31688e"
             ],
             [
              0.4444444444444444,
              "#26828e"
             ],
             [
              0.5555555555555556,
              "#1f9e89"
             ],
             [
              0.6666666666666666,
              "#35b779"
             ],
             [
              0.7777777777777778,
              "#6ece58"
             ],
             [
              0.8888888888888888,
              "#b5de2b"
             ],
             [
              1,
              "#fde725"
             ]
            ],
            "type": "heatmap"
           }
          ],
          "heatmapgl": [
           {
            "colorbar": {
             "outlinewidth": 1,
             "tickcolor": "rgb(36,36,36)",
             "ticks": "outside"
            },
            "colorscale": [
             [
              0,
              "#440154"
             ],
             [
              0.1111111111111111,
              "#482878"
             ],
             [
              0.2222222222222222,
              "#3e4989"
             ],
             [
              0.3333333333333333,
              "#31688e"
             ],
             [
              0.4444444444444444,
              "#26828e"
             ],
             [
              0.5555555555555556,
              "#1f9e89"
             ],
             [
              0.6666666666666666,
              "#35b779"
             ],
             [
              0.7777777777777778,
              "#6ece58"
             ],
             [
              0.8888888888888888,
              "#b5de2b"
             ],
             [
              1,
              "#fde725"
             ]
            ],
            "type": "heatmapgl"
           }
          ],
          "histogram": [
           {
            "marker": {
             "line": {
              "color": "white",
              "width": 0.6
             }
            },
            "type": "histogram"
           }
          ],
          "histogram2d": [
           {
            "colorbar": {
             "outlinewidth": 1,
             "tickcolor": "rgb(36,36,36)",
             "ticks": "outside"
            },
            "colorscale": [
             [
              0,
              "#440154"
             ],
             [
              0.1111111111111111,
              "#482878"
             ],
             [
              0.2222222222222222,
              "#3e4989"
             ],
             [
              0.3333333333333333,
              "#31688e"
             ],
             [
              0.4444444444444444,
              "#26828e"
             ],
             [
              0.5555555555555556,
              "#1f9e89"
             ],
             [
              0.6666666666666666,
              "#35b779"
             ],
             [
              0.7777777777777778,
              "#6ece58"
             ],
             [
              0.8888888888888888,
              "#b5de2b"
             ],
             [
              1,
              "#fde725"
             ]
            ],
            "type": "histogram2d"
           }
          ],
          "histogram2dcontour": [
           {
            "colorbar": {
             "outlinewidth": 1,
             "tickcolor": "rgb(36,36,36)",
             "ticks": "outside"
            },
            "colorscale": [
             [
              0,
              "#440154"
             ],
             [
              0.1111111111111111,
              "#482878"
             ],
             [
              0.2222222222222222,
              "#3e4989"
             ],
             [
              0.3333333333333333,
              "#31688e"
             ],
             [
              0.4444444444444444,
              "#26828e"
             ],
             [
              0.5555555555555556,
              "#1f9e89"
             ],
             [
              0.6666666666666666,
              "#35b779"
             ],
             [
              0.7777777777777778,
              "#6ece58"
             ],
             [
              0.8888888888888888,
              "#b5de2b"
             ],
             [
              1,
              "#fde725"
             ]
            ],
            "type": "histogram2dcontour"
           }
          ],
          "mesh3d": [
           {
            "colorbar": {
             "outlinewidth": 1,
             "tickcolor": "rgb(36,36,36)",
             "ticks": "outside"
            },
            "type": "mesh3d"
           }
          ],
          "parcoords": [
           {
            "line": {
             "colorbar": {
              "outlinewidth": 1,
              "tickcolor": "rgb(36,36,36)",
              "ticks": "outside"
             }
            },
            "type": "parcoords"
           }
          ],
          "pie": [
           {
            "automargin": true,
            "type": "pie"
           }
          ],
          "scatter": [
           {
            "fillpattern": {
             "fillmode": "overlay",
             "size": 10,
             "solidity": 0.2
            },
            "type": "scatter"
           }
          ],
          "scatter3d": [
           {
            "line": {
             "colorbar": {
              "outlinewidth": 1,
              "tickcolor": "rgb(36,36,36)",
              "ticks": "outside"
             }
            },
            "marker": {
             "colorbar": {
              "outlinewidth": 1,
              "tickcolor": "rgb(36,36,36)",
              "ticks": "outside"
             }
            },
            "type": "scatter3d"
           }
          ],
          "scattercarpet": [
           {
            "marker": {
             "colorbar": {
              "outlinewidth": 1,
              "tickcolor": "rgb(36,36,36)",
              "ticks": "outside"
             }
            },
            "type": "scattercarpet"
           }
          ],
          "scattergeo": [
           {
            "marker": {
             "colorbar": {
              "outlinewidth": 1,
              "tickcolor": "rgb(36,36,36)",
              "ticks": "outside"
             }
            },
            "type": "scattergeo"
           }
          ],
          "scattergl": [
           {
            "marker": {
             "colorbar": {
              "outlinewidth": 1,
              "tickcolor": "rgb(36,36,36)",
              "ticks": "outside"
             }
            },
            "type": "scattergl"
           }
          ],
          "scattermapbox": [
           {
            "marker": {
             "colorbar": {
              "outlinewidth": 1,
              "tickcolor": "rgb(36,36,36)",
              "ticks": "outside"
             }
            },
            "type": "scattermapbox"
           }
          ],
          "scatterpolar": [
           {
            "marker": {
             "colorbar": {
              "outlinewidth": 1,
              "tickcolor": "rgb(36,36,36)",
              "ticks": "outside"
             }
            },
            "type": "scatterpolar"
           }
          ],
          "scatterpolargl": [
           {
            "marker": {
             "colorbar": {
              "outlinewidth": 1,
              "tickcolor": "rgb(36,36,36)",
              "ticks": "outside"
             }
            },
            "type": "scatterpolargl"
           }
          ],
          "scatterternary": [
           {
            "marker": {
             "colorbar": {
              "outlinewidth": 1,
              "tickcolor": "rgb(36,36,36)",
              "ticks": "outside"
             }
            },
            "type": "scatterternary"
           }
          ],
          "surface": [
           {
            "colorbar": {
             "outlinewidth": 1,
             "tickcolor": "rgb(36,36,36)",
             "ticks": "outside"
            },
            "colorscale": [
             [
              0,
              "#440154"
             ],
             [
              0.1111111111111111,
              "#482878"
             ],
             [
              0.2222222222222222,
              "#3e4989"
             ],
             [
              0.3333333333333333,
              "#31688e"
             ],
             [
              0.4444444444444444,
              "#26828e"
             ],
             [
              0.5555555555555556,
              "#1f9e89"
             ],
             [
              0.6666666666666666,
              "#35b779"
             ],
             [
              0.7777777777777778,
              "#6ece58"
             ],
             [
              0.8888888888888888,
              "#b5de2b"
             ],
             [
              1,
              "#fde725"
             ]
            ],
            "type": "surface"
           }
          ],
          "table": [
           {
            "cells": {
             "fill": {
              "color": "rgb(237,237,237)"
             },
             "line": {
              "color": "white"
             }
            },
            "header": {
             "fill": {
              "color": "rgb(217,217,217)"
             },
             "line": {
              "color": "white"
             }
            },
            "type": "table"
           }
          ]
         },
         "layout": {
          "annotationdefaults": {
           "arrowhead": 0,
           "arrowwidth": 1
          },
          "autotypenumbers": "strict",
          "coloraxis": {
           "colorbar": {
            "outlinewidth": 1,
            "tickcolor": "rgb(36,36,36)",
            "ticks": "outside"
           }
          },
          "colorscale": {
           "diverging": [
            [
             0,
             "rgb(103,0,31)"
            ],
            [
             0.1,
             "rgb(178,24,43)"
            ],
            [
             0.2,
             "rgb(214,96,77)"
            ],
            [
             0.3,
             "rgb(244,165,130)"
            ],
            [
             0.4,
             "rgb(253,219,199)"
            ],
            [
             0.5,
             "rgb(247,247,247)"
            ],
            [
             0.6,
             "rgb(209,229,240)"
            ],
            [
             0.7,
             "rgb(146,197,222)"
            ],
            [
             0.8,
             "rgb(67,147,195)"
            ],
            [
             0.9,
             "rgb(33,102,172)"
            ],
            [
             1,
             "rgb(5,48,97)"
            ]
           ],
           "sequential": [
            [
             0,
             "#440154"
            ],
            [
             0.1111111111111111,
             "#482878"
            ],
            [
             0.2222222222222222,
             "#3e4989"
            ],
            [
             0.3333333333333333,
             "#31688e"
            ],
            [
             0.4444444444444444,
             "#26828e"
            ],
            [
             0.5555555555555556,
             "#1f9e89"
            ],
            [
             0.6666666666666666,
             "#35b779"
            ],
            [
             0.7777777777777778,
             "#6ece58"
            ],
            [
             0.8888888888888888,
             "#b5de2b"
            ],
            [
             1,
             "#fde725"
            ]
           ],
           "sequentialminus": [
            [
             0,
             "#440154"
            ],
            [
             0.1111111111111111,
             "#482878"
            ],
            [
             0.2222222222222222,
             "#3e4989"
            ],
            [
             0.3333333333333333,
             "#31688e"
            ],
            [
             0.4444444444444444,
             "#26828e"
            ],
            [
             0.5555555555555556,
             "#1f9e89"
            ],
            [
             0.6666666666666666,
             "#35b779"
            ],
            [
             0.7777777777777778,
             "#6ece58"
            ],
            [
             0.8888888888888888,
             "#b5de2b"
            ],
            [
             1,
             "#fde725"
            ]
           ]
          },
          "colorway": [
           "#1F77B4",
           "#FF7F0E",
           "#2CA02C",
           "#D62728",
           "#9467BD",
           "#8C564B",
           "#E377C2",
           "#7F7F7F",
           "#BCBD22",
           "#17BECF"
          ],
          "font": {
           "color": "rgb(36,36,36)"
          },
          "geo": {
           "bgcolor": "white",
           "lakecolor": "white",
           "landcolor": "white",
           "showlakes": true,
           "showland": true,
           "subunitcolor": "white"
          },
          "hoverlabel": {
           "align": "left"
          },
          "hovermode": "closest",
          "mapbox": {
           "style": "light"
          },
          "paper_bgcolor": "white",
          "plot_bgcolor": "white",
          "polar": {
           "angularaxis": {
            "gridcolor": "rgb(232,232,232)",
            "linecolor": "rgb(36,36,36)",
            "showgrid": false,
            "showline": true,
            "ticks": "outside"
           },
           "bgcolor": "white",
           "radialaxis": {
            "gridcolor": "rgb(232,232,232)",
            "linecolor": "rgb(36,36,36)",
            "showgrid": false,
            "showline": true,
            "ticks": "outside"
           }
          },
          "scene": {
           "xaxis": {
            "backgroundcolor": "white",
            "gridcolor": "rgb(232,232,232)",
            "gridwidth": 2,
            "linecolor": "rgb(36,36,36)",
            "showbackground": true,
            "showgrid": false,
            "showline": true,
            "ticks": "outside",
            "zeroline": false,
            "zerolinecolor": "rgb(36,36,36)"
           },
           "yaxis": {
            "backgroundcolor": "white",
            "gridcolor": "rgb(232,232,232)",
            "gridwidth": 2,
            "linecolor": "rgb(36,36,36)",
            "showbackground": true,
            "showgrid": false,
            "showline": true,
            "ticks": "outside",
            "zeroline": false,
            "zerolinecolor": "rgb(36,36,36)"
           },
           "zaxis": {
            "backgroundcolor": "white",
            "gridcolor": "rgb(232,232,232)",
            "gridwidth": 2,
            "linecolor": "rgb(36,36,36)",
            "showbackground": true,
            "showgrid": false,
            "showline": true,
            "ticks": "outside",
            "zeroline": false,
            "zerolinecolor": "rgb(36,36,36)"
           }
          },
          "shapedefaults": {
           "fillcolor": "black",
           "line": {
            "width": 0
           },
           "opacity": 0.3
          },
          "ternary": {
           "aaxis": {
            "gridcolor": "rgb(232,232,232)",
            "linecolor": "rgb(36,36,36)",
            "showgrid": false,
            "showline": true,
            "ticks": "outside"
           },
           "baxis": {
            "gridcolor": "rgb(232,232,232)",
            "linecolor": "rgb(36,36,36)",
            "showgrid": false,
            "showline": true,
            "ticks": "outside"
           },
           "bgcolor": "white",
           "caxis": {
            "gridcolor": "rgb(232,232,232)",
            "linecolor": "rgb(36,36,36)",
            "showgrid": false,
            "showline": true,
            "ticks": "outside"
           }
          },
          "title": {
           "x": 0.05
          },
          "xaxis": {
           "automargin": true,
           "gridcolor": "rgb(232,232,232)",
           "linecolor": "rgb(36,36,36)",
           "showgrid": false,
           "showline": true,
           "ticks": "outside",
           "title": {
            "standoff": 15
           },
           "zeroline": false,
           "zerolinecolor": "rgb(36,36,36)"
          },
          "yaxis": {
           "automargin": true,
           "gridcolor": "rgb(232,232,232)",
           "linecolor": "rgb(36,36,36)",
           "showgrid": false,
           "showline": true,
           "ticks": "outside",
           "title": {
            "standoff": 15
           },
           "zeroline": false,
           "zerolinecolor": "rgb(36,36,36)"
          }
         }
        },
        "title": {
         "text": "Répartition des moyens de production"
        }
       }
      }
     },
     "metadata": {},
     "output_type": "display_data"
    }
   ],
   "source": [
    "total_standard = df_all[\"Prod_standard\"].sum()\n",
    "total_heure_sup = (df_all[\"Heures_sup\"] * 60 / duree_assemblage).sum()\n",
    "total_sous_traitance = df_all[\"Sous_traitance\"].sum()\n",
    "labels = [\"Production standard\", \"Heures supplémentaires\", \"Sous-traitance\"]\n",
    "values = [total_standard, total_heure_sup, total_sous_traitance]\n",
    "colors = [\"royalblue\", \"orange\", \"mediumpurple\"]\n",
    "fig = go.Figure(data=[go.Pie(labels=labels, values=values, hole=0.3, marker=dict(colors=colors))])\n",
    "fig.update_layout(title=\"Répartition des moyens de production\", template=\"simple_white\")\n",
    "fig.show()"
   ]
  },
  {
   "cell_type": "code",
   "execution_count": 67,
   "id": "b0809b32",
   "metadata": {},
   "outputs": [
    {
     "data": {
      "application/vnd.plotly.v1+json": {
       "config": {
        "plotlyServerURL": "https://plot.ly"
       },
       "data": [
        {
         "hole": 0.3,
         "labels": [
          "Matériaux",
          "Heures supplémentaires",
          "Sous-traitance",
          "Stockage",
          "Retards",
          "Salaire fixe"
         ],
         "type": "pie",
         "values": [
          253500,
          17050,
          28750,
          11900,
          12900,
          267520
         ]
        }
       ],
       "layout": {
        "template": {
         "data": {
          "bar": [
           {
            "error_x": {
             "color": "rgb(36,36,36)"
            },
            "error_y": {
             "color": "rgb(36,36,36)"
            },
            "marker": {
             "line": {
              "color": "white",
              "width": 0.5
             },
             "pattern": {
              "fillmode": "overlay",
              "size": 10,
              "solidity": 0.2
             }
            },
            "type": "bar"
           }
          ],
          "barpolar": [
           {
            "marker": {
             "line": {
              "color": "white",
              "width": 0.5
             },
             "pattern": {
              "fillmode": "overlay",
              "size": 10,
              "solidity": 0.2
             }
            },
            "type": "barpolar"
           }
          ],
          "carpet": [
           {
            "aaxis": {
             "endlinecolor": "rgb(36,36,36)",
             "gridcolor": "white",
             "linecolor": "white",
             "minorgridcolor": "white",
             "startlinecolor": "rgb(36,36,36)"
            },
            "baxis": {
             "endlinecolor": "rgb(36,36,36)",
             "gridcolor": "white",
             "linecolor": "white",
             "minorgridcolor": "white",
             "startlinecolor": "rgb(36,36,36)"
            },
            "type": "carpet"
           }
          ],
          "choropleth": [
           {
            "colorbar": {
             "outlinewidth": 1,
             "tickcolor": "rgb(36,36,36)",
             "ticks": "outside"
            },
            "type": "choropleth"
           }
          ],
          "contour": [
           {
            "colorbar": {
             "outlinewidth": 1,
             "tickcolor": "rgb(36,36,36)",
             "ticks": "outside"
            },
            "colorscale": [
             [
              0,
              "#440154"
             ],
             [
              0.1111111111111111,
              "#482878"
             ],
             [
              0.2222222222222222,
              "#3e4989"
             ],
             [
              0.3333333333333333,
              "#31688e"
             ],
             [
              0.4444444444444444,
              "#26828e"
             ],
             [
              0.5555555555555556,
              "#1f9e89"
             ],
             [
              0.6666666666666666,
              "#35b779"
             ],
             [
              0.7777777777777778,
              "#6ece58"
             ],
             [
              0.8888888888888888,
              "#b5de2b"
             ],
             [
              1,
              "#fde725"
             ]
            ],
            "type": "contour"
           }
          ],
          "contourcarpet": [
           {
            "colorbar": {
             "outlinewidth": 1,
             "tickcolor": "rgb(36,36,36)",
             "ticks": "outside"
            },
            "type": "contourcarpet"
           }
          ],
          "heatmap": [
           {
            "colorbar": {
             "outlinewidth": 1,
             "tickcolor": "rgb(36,36,36)",
             "ticks": "outside"
            },
            "colorscale": [
             [
              0,
              "#440154"
             ],
             [
              0.1111111111111111,
              "#482878"
             ],
             [
              0.2222222222222222,
              "#3e4989"
             ],
             [
              0.3333333333333333,
              "#31688e"
             ],
             [
              0.4444444444444444,
              "#26828e"
             ],
             [
              0.5555555555555556,
              "#1f9e89"
             ],
             [
              0.6666666666666666,
              "#35b779"
             ],
             [
              0.7777777777777778,
              "#6ece58"
             ],
             [
              0.8888888888888888,
              "#b5de2b"
             ],
             [
              1,
              "#fde725"
             ]
            ],
            "type": "heatmap"
           }
          ],
          "heatmapgl": [
           {
            "colorbar": {
             "outlinewidth": 1,
             "tickcolor": "rgb(36,36,36)",
             "ticks": "outside"
            },
            "colorscale": [
             [
              0,
              "#440154"
             ],
             [
              0.1111111111111111,
              "#482878"
             ],
             [
              0.2222222222222222,
              "#3e4989"
             ],
             [
              0.3333333333333333,
              "#31688e"
             ],
             [
              0.4444444444444444,
              "#26828e"
             ],
             [
              0.5555555555555556,
              "#1f9e89"
             ],
             [
              0.6666666666666666,
              "#35b779"
             ],
             [
              0.7777777777777778,
              "#6ece58"
             ],
             [
              0.8888888888888888,
              "#b5de2b"
             ],
             [
              1,
              "#fde725"
             ]
            ],
            "type": "heatmapgl"
           }
          ],
          "histogram": [
           {
            "marker": {
             "line": {
              "color": "white",
              "width": 0.6
             }
            },
            "type": "histogram"
           }
          ],
          "histogram2d": [
           {
            "colorbar": {
             "outlinewidth": 1,
             "tickcolor": "rgb(36,36,36)",
             "ticks": "outside"
            },
            "colorscale": [
             [
              0,
              "#440154"
             ],
             [
              0.1111111111111111,
              "#482878"
             ],
             [
              0.2222222222222222,
              "#3e4989"
             ],
             [
              0.3333333333333333,
              "#31688e"
             ],
             [
              0.4444444444444444,
              "#26828e"
             ],
             [
              0.5555555555555556,
              "#1f9e89"
             ],
             [
              0.6666666666666666,
              "#35b779"
             ],
             [
              0.7777777777777778,
              "#6ece58"
             ],
             [
              0.8888888888888888,
              "#b5de2b"
             ],
             [
              1,
              "#fde725"
             ]
            ],
            "type": "histogram2d"
           }
          ],
          "histogram2dcontour": [
           {
            "colorbar": {
             "outlinewidth": 1,
             "tickcolor": "rgb(36,36,36)",
             "ticks": "outside"
            },
            "colorscale": [
             [
              0,
              "#440154"
             ],
             [
              0.1111111111111111,
              "#482878"
             ],
             [
              0.2222222222222222,
              "#3e4989"
             ],
             [
              0.3333333333333333,
              "#31688e"
             ],
             [
              0.4444444444444444,
              "#26828e"
             ],
             [
              0.5555555555555556,
              "#1f9e89"
             ],
             [
              0.6666666666666666,
              "#35b779"
             ],
             [
              0.7777777777777778,
              "#6ece58"
             ],
             [
              0.8888888888888888,
              "#b5de2b"
             ],
             [
              1,
              "#fde725"
             ]
            ],
            "type": "histogram2dcontour"
           }
          ],
          "mesh3d": [
           {
            "colorbar": {
             "outlinewidth": 1,
             "tickcolor": "rgb(36,36,36)",
             "ticks": "outside"
            },
            "type": "mesh3d"
           }
          ],
          "parcoords": [
           {
            "line": {
             "colorbar": {
              "outlinewidth": 1,
              "tickcolor": "rgb(36,36,36)",
              "ticks": "outside"
             }
            },
            "type": "parcoords"
           }
          ],
          "pie": [
           {
            "automargin": true,
            "type": "pie"
           }
          ],
          "scatter": [
           {
            "fillpattern": {
             "fillmode": "overlay",
             "size": 10,
             "solidity": 0.2
            },
            "type": "scatter"
           }
          ],
          "scatter3d": [
           {
            "line": {
             "colorbar": {
              "outlinewidth": 1,
              "tickcolor": "rgb(36,36,36)",
              "ticks": "outside"
             }
            },
            "marker": {
             "colorbar": {
              "outlinewidth": 1,
              "tickcolor": "rgb(36,36,36)",
              "ticks": "outside"
             }
            },
            "type": "scatter3d"
           }
          ],
          "scattercarpet": [
           {
            "marker": {
             "colorbar": {
              "outlinewidth": 1,
              "tickcolor": "rgb(36,36,36)",
              "ticks": "outside"
             }
            },
            "type": "scattercarpet"
           }
          ],
          "scattergeo": [
           {
            "marker": {
             "colorbar": {
              "outlinewidth": 1,
              "tickcolor": "rgb(36,36,36)",
              "ticks": "outside"
             }
            },
            "type": "scattergeo"
           }
          ],
          "scattergl": [
           {
            "marker": {
             "colorbar": {
              "outlinewidth": 1,
              "tickcolor": "rgb(36,36,36)",
              "ticks": "outside"
             }
            },
            "type": "scattergl"
           }
          ],
          "scattermapbox": [
           {
            "marker": {
             "colorbar": {
              "outlinewidth": 1,
              "tickcolor": "rgb(36,36,36)",
              "ticks": "outside"
             }
            },
            "type": "scattermapbox"
           }
          ],
          "scatterpolar": [
           {
            "marker": {
             "colorbar": {
              "outlinewidth": 1,
              "tickcolor": "rgb(36,36,36)",
              "ticks": "outside"
             }
            },
            "type": "scatterpolar"
           }
          ],
          "scatterpolargl": [
           {
            "marker": {
             "colorbar": {
              "outlinewidth": 1,
              "tickcolor": "rgb(36,36,36)",
              "ticks": "outside"
             }
            },
            "type": "scatterpolargl"
           }
          ],
          "scatterternary": [
           {
            "marker": {
             "colorbar": {
              "outlinewidth": 1,
              "tickcolor": "rgb(36,36,36)",
              "ticks": "outside"
             }
            },
            "type": "scatterternary"
           }
          ],
          "surface": [
           {
            "colorbar": {
             "outlinewidth": 1,
             "tickcolor": "rgb(36,36,36)",
             "ticks": "outside"
            },
            "colorscale": [
             [
              0,
              "#440154"
             ],
             [
              0.1111111111111111,
              "#482878"
             ],
             [
              0.2222222222222222,
              "#3e4989"
             ],
             [
              0.3333333333333333,
              "#31688e"
             ],
             [
              0.4444444444444444,
              "#26828e"
             ],
             [
              0.5555555555555556,
              "#1f9e89"
             ],
             [
              0.6666666666666666,
              "#35b779"
             ],
             [
              0.7777777777777778,
              "#6ece58"
             ],
             [
              0.8888888888888888,
              "#b5de2b"
             ],
             [
              1,
              "#fde725"
             ]
            ],
            "type": "surface"
           }
          ],
          "table": [
           {
            "cells": {
             "fill": {
              "color": "rgb(237,237,237)"
             },
             "line": {
              "color": "white"
             }
            },
            "header": {
             "fill": {
              "color": "rgb(217,217,217)"
             },
             "line": {
              "color": "white"
             }
            },
            "type": "table"
           }
          ]
         },
         "layout": {
          "annotationdefaults": {
           "arrowhead": 0,
           "arrowwidth": 1
          },
          "autotypenumbers": "strict",
          "coloraxis": {
           "colorbar": {
            "outlinewidth": 1,
            "tickcolor": "rgb(36,36,36)",
            "ticks": "outside"
           }
          },
          "colorscale": {
           "diverging": [
            [
             0,
             "rgb(103,0,31)"
            ],
            [
             0.1,
             "rgb(178,24,43)"
            ],
            [
             0.2,
             "rgb(214,96,77)"
            ],
            [
             0.3,
             "rgb(244,165,130)"
            ],
            [
             0.4,
             "rgb(253,219,199)"
            ],
            [
             0.5,
             "rgb(247,247,247)"
            ],
            [
             0.6,
             "rgb(209,229,240)"
            ],
            [
             0.7,
             "rgb(146,197,222)"
            ],
            [
             0.8,
             "rgb(67,147,195)"
            ],
            [
             0.9,
             "rgb(33,102,172)"
            ],
            [
             1,
             "rgb(5,48,97)"
            ]
           ],
           "sequential": [
            [
             0,
             "#440154"
            ],
            [
             0.1111111111111111,
             "#482878"
            ],
            [
             0.2222222222222222,
             "#3e4989"
            ],
            [
             0.3333333333333333,
             "#31688e"
            ],
            [
             0.4444444444444444,
             "#26828e"
            ],
            [
             0.5555555555555556,
             "#1f9e89"
            ],
            [
             0.6666666666666666,
             "#35b779"
            ],
            [
             0.7777777777777778,
             "#6ece58"
            ],
            [
             0.8888888888888888,
             "#b5de2b"
            ],
            [
             1,
             "#fde725"
            ]
           ],
           "sequentialminus": [
            [
             0,
             "#440154"
            ],
            [
             0.1111111111111111,
             "#482878"
            ],
            [
             0.2222222222222222,
             "#3e4989"
            ],
            [
             0.3333333333333333,
             "#31688e"
            ],
            [
             0.4444444444444444,
             "#26828e"
            ],
            [
             0.5555555555555556,
             "#1f9e89"
            ],
            [
             0.6666666666666666,
             "#35b779"
            ],
            [
             0.7777777777777778,
             "#6ece58"
            ],
            [
             0.8888888888888888,
             "#b5de2b"
            ],
            [
             1,
             "#fde725"
            ]
           ]
          },
          "colorway": [
           "#1F77B4",
           "#FF7F0E",
           "#2CA02C",
           "#D62728",
           "#9467BD",
           "#8C564B",
           "#E377C2",
           "#7F7F7F",
           "#BCBD22",
           "#17BECF"
          ],
          "font": {
           "color": "rgb(36,36,36)"
          },
          "geo": {
           "bgcolor": "white",
           "lakecolor": "white",
           "landcolor": "white",
           "showlakes": true,
           "showland": true,
           "subunitcolor": "white"
          },
          "hoverlabel": {
           "align": "left"
          },
          "hovermode": "closest",
          "mapbox": {
           "style": "light"
          },
          "paper_bgcolor": "white",
          "plot_bgcolor": "white",
          "polar": {
           "angularaxis": {
            "gridcolor": "rgb(232,232,232)",
            "linecolor": "rgb(36,36,36)",
            "showgrid": false,
            "showline": true,
            "ticks": "outside"
           },
           "bgcolor": "white",
           "radialaxis": {
            "gridcolor": "rgb(232,232,232)",
            "linecolor": "rgb(36,36,36)",
            "showgrid": false,
            "showline": true,
            "ticks": "outside"
           }
          },
          "scene": {
           "xaxis": {
            "backgroundcolor": "white",
            "gridcolor": "rgb(232,232,232)",
            "gridwidth": 2,
            "linecolor": "rgb(36,36,36)",
            "showbackground": true,
            "showgrid": false,
            "showline": true,
            "ticks": "outside",
            "zeroline": false,
            "zerolinecolor": "rgb(36,36,36)"
           },
           "yaxis": {
            "backgroundcolor": "white",
            "gridcolor": "rgb(232,232,232)",
            "gridwidth": 2,
            "linecolor": "rgb(36,36,36)",
            "showbackground": true,
            "showgrid": false,
            "showline": true,
            "ticks": "outside",
            "zeroline": false,
            "zerolinecolor": "rgb(36,36,36)"
           },
           "zaxis": {
            "backgroundcolor": "white",
            "gridcolor": "rgb(232,232,232)",
            "gridwidth": 2,
            "linecolor": "rgb(36,36,36)",
            "showbackground": true,
            "showgrid": false,
            "showline": true,
            "ticks": "outside",
            "zeroline": false,
            "zerolinecolor": "rgb(36,36,36)"
           }
          },
          "shapedefaults": {
           "fillcolor": "black",
           "line": {
            "width": 0
           },
           "opacity": 0.3
          },
          "ternary": {
           "aaxis": {
            "gridcolor": "rgb(232,232,232)",
            "linecolor": "rgb(36,36,36)",
            "showgrid": false,
            "showline": true,
            "ticks": "outside"
           },
           "baxis": {
            "gridcolor": "rgb(232,232,232)",
            "linecolor": "rgb(36,36,36)",
            "showgrid": false,
            "showline": true,
            "ticks": "outside"
           },
           "bgcolor": "white",
           "caxis": {
            "gridcolor": "rgb(232,232,232)",
            "linecolor": "rgb(36,36,36)",
            "showgrid": false,
            "showline": true,
            "ticks": "outside"
           }
          },
          "title": {
           "x": 0.05
          },
          "xaxis": {
           "automargin": true,
           "gridcolor": "rgb(232,232,232)",
           "linecolor": "rgb(36,36,36)",
           "showgrid": false,
           "showline": true,
           "ticks": "outside",
           "title": {
            "standoff": 15
           },
           "zeroline": false,
           "zerolinecolor": "rgb(36,36,36)"
          },
          "yaxis": {
           "automargin": true,
           "gridcolor": "rgb(232,232,232)",
           "linecolor": "rgb(36,36,36)",
           "showgrid": false,
           "showline": true,
           "ticks": "outside",
           "title": {
            "standoff": 15
           },
           "zeroline": false,
           "zerolinecolor": "rgb(36,36,36)"
          }
         }
        },
        "title": {
         "text": "Répartition globale des coûts"
        }
       }
      }
     },
     "metadata": {},
     "output_type": "display_data"
    }
   ],
   "source": [
    "df_all[\"Cout_mat\"] = cout_materiaux * (df_all[\"Prod_standard\"] + (df_all[\"Heures_sup\"] * 60 / duree_assemblage))\n",
    "df_all[\"Cout_HS\"] = cout_heure_sup * df_all[\"Heures_sup\"]\n",
    "df_all[\"Cout_ST\"] = cout_sous_traitant * df_all[\"Sous_traitance\"]\n",
    "df_all[\"Cout_stock\"] = cout_stockage * df_all[\"Stock\"]\n",
    "df_all[\"Cout_retards\"] = penalite_1semaine * df_all[\"R1\"] + penalite_2semaines * df_all[\"R2\"]\n",
    "salaire_fixe = nb_ouvriers * nb_heures_remunerees * cout_horaire * T\n",
    "total_couts = {\n",
    "    \"Matériaux\": df_all[\"Cout_mat\"].sum(),\n",
    "    \"Heures supplémentaires\": df_all[\"Cout_HS\"].sum(),\n",
    "    \"Sous-traitance\": df_all[\"Cout_ST\"].sum(),\n",
    "    \"Stockage\": df_all[\"Cout_stock\"].sum(),\n",
    "    \"Retards\": df_all[\"Cout_retards\"].sum(),\n",
    "    \"Salaire fixe\": salaire_fixe\n",
    "}\n",
    "fig = go.Figure(data=[go.Pie(labels=list(total_couts.keys()), values=list(total_couts.values()), hole=0.3)])\n",
    "fig.update_layout(title=\"Répartition globale des coûts\", template=\"simple_white\")\n",
    "fig.show()"
   ]
  },
  {
   "cell_type": "markdown",
   "id": "7c344eca",
   "metadata": {},
   "source": [
    "Ces diagrammes circulaires permettent de relier les choix du modèle aux coûts induits. La production interne est privilégiée, ce qui explique la forte proportion de salaires et de matériaux dans le coût total."
   ]
  },
  {
   "cell_type": "code",
   "execution_count": 68,
   "id": "1e5c4359",
   "metadata": {},
   "outputs": [
    {
     "data": {
      "application/vnd.plotly.v1+json": {
       "config": {
        "plotlyServerURL": "https://plot.ly"
       },
       "data": [
        {
         "line": {
          "color": "royalblue"
         },
         "mode": "lines+markers",
         "name": "Production totale",
         "type": "scatter",
         "x": [
          1,
          2,
          3,
          4,
          5,
          6,
          7,
          8,
          9,
          10,
          11
         ],
         "y": [
          1750,
          2240,
          2240,
          2520,
          3060,
          2240,
          2200,
          2240,
          2240,
          2710,
          3060
         ]
        },
        {
         "line": {
          "color": "crimson",
          "dash": "dash"
         },
         "mode": "lines+markers",
         "name": "Demande",
         "type": "scatter",
         "x": [
          1,
          2,
          3,
          4,
          5,
          6,
          7,
          8,
          9,
          10,
          11
         ],
         "y": [
          2000,
          2000,
          2000,
          3000,
          4000,
          2000,
          1500,
          1500,
          2500,
          3000,
          3000
         ]
        }
       ],
       "layout": {
        "template": {
         "data": {
          "bar": [
           {
            "error_x": {
             "color": "rgb(36,36,36)"
            },
            "error_y": {
             "color": "rgb(36,36,36)"
            },
            "marker": {
             "line": {
              "color": "white",
              "width": 0.5
             },
             "pattern": {
              "fillmode": "overlay",
              "size": 10,
              "solidity": 0.2
             }
            },
            "type": "bar"
           }
          ],
          "barpolar": [
           {
            "marker": {
             "line": {
              "color": "white",
              "width": 0.5
             },
             "pattern": {
              "fillmode": "overlay",
              "size": 10,
              "solidity": 0.2
             }
            },
            "type": "barpolar"
           }
          ],
          "carpet": [
           {
            "aaxis": {
             "endlinecolor": "rgb(36,36,36)",
             "gridcolor": "white",
             "linecolor": "white",
             "minorgridcolor": "white",
             "startlinecolor": "rgb(36,36,36)"
            },
            "baxis": {
             "endlinecolor": "rgb(36,36,36)",
             "gridcolor": "white",
             "linecolor": "white",
             "minorgridcolor": "white",
             "startlinecolor": "rgb(36,36,36)"
            },
            "type": "carpet"
           }
          ],
          "choropleth": [
           {
            "colorbar": {
             "outlinewidth": 1,
             "tickcolor": "rgb(36,36,36)",
             "ticks": "outside"
            },
            "type": "choropleth"
           }
          ],
          "contour": [
           {
            "colorbar": {
             "outlinewidth": 1,
             "tickcolor": "rgb(36,36,36)",
             "ticks": "outside"
            },
            "colorscale": [
             [
              0,
              "#440154"
             ],
             [
              0.1111111111111111,
              "#482878"
             ],
             [
              0.2222222222222222,
              "#3e4989"
             ],
             [
              0.3333333333333333,
              "#31688e"
             ],
             [
              0.4444444444444444,
              "#26828e"
             ],
             [
              0.5555555555555556,
              "#1f9e89"
             ],
             [
              0.6666666666666666,
              "#35b779"
             ],
             [
              0.7777777777777778,
              "#6ece58"
             ],
             [
              0.8888888888888888,
              "#b5de2b"
             ],
             [
              1,
              "#fde725"
             ]
            ],
            "type": "contour"
           }
          ],
          "contourcarpet": [
           {
            "colorbar": {
             "outlinewidth": 1,
             "tickcolor": "rgb(36,36,36)",
             "ticks": "outside"
            },
            "type": "contourcarpet"
           }
          ],
          "heatmap": [
           {
            "colorbar": {
             "outlinewidth": 1,
             "tickcolor": "rgb(36,36,36)",
             "ticks": "outside"
            },
            "colorscale": [
             [
              0,
              "#440154"
             ],
             [
              0.1111111111111111,
              "#482878"
             ],
             [
              0.2222222222222222,
              "#3e4989"
             ],
             [
              0.3333333333333333,
              "#31688e"
             ],
             [
              0.4444444444444444,
              "#26828e"
             ],
             [
              0.5555555555555556,
              "#1f9e89"
             ],
             [
              0.6666666666666666,
              "#35b779"
             ],
             [
              0.7777777777777778,
              "#6ece58"
             ],
             [
              0.8888888888888888,
              "#b5de2b"
             ],
             [
              1,
              "#fde725"
             ]
            ],
            "type": "heatmap"
           }
          ],
          "heatmapgl": [
           {
            "colorbar": {
             "outlinewidth": 1,
             "tickcolor": "rgb(36,36,36)",
             "ticks": "outside"
            },
            "colorscale": [
             [
              0,
              "#440154"
             ],
             [
              0.1111111111111111,
              "#482878"
             ],
             [
              0.2222222222222222,
              "#3e4989"
             ],
             [
              0.3333333333333333,
              "#31688e"
             ],
             [
              0.4444444444444444,
              "#26828e"
             ],
             [
              0.5555555555555556,
              "#1f9e89"
             ],
             [
              0.6666666666666666,
              "#35b779"
             ],
             [
              0.7777777777777778,
              "#6ece58"
             ],
             [
              0.8888888888888888,
              "#b5de2b"
             ],
             [
              1,
              "#fde725"
             ]
            ],
            "type": "heatmapgl"
           }
          ],
          "histogram": [
           {
            "marker": {
             "line": {
              "color": "white",
              "width": 0.6
             }
            },
            "type": "histogram"
           }
          ],
          "histogram2d": [
           {
            "colorbar": {
             "outlinewidth": 1,
             "tickcolor": "rgb(36,36,36)",
             "ticks": "outside"
            },
            "colorscale": [
             [
              0,
              "#440154"
             ],
             [
              0.1111111111111111,
              "#482878"
             ],
             [
              0.2222222222222222,
              "#3e4989"
             ],
             [
              0.3333333333333333,
              "#31688e"
             ],
             [
              0.4444444444444444,
              "#26828e"
             ],
             [
              0.5555555555555556,
              "#1f9e89"
             ],
             [
              0.6666666666666666,
              "#35b779"
             ],
             [
              0.7777777777777778,
              "#6ece58"
             ],
             [
              0.8888888888888888,
              "#b5de2b"
             ],
             [
              1,
              "#fde725"
             ]
            ],
            "type": "histogram2d"
           }
          ],
          "histogram2dcontour": [
           {
            "colorbar": {
             "outlinewidth": 1,
             "tickcolor": "rgb(36,36,36)",
             "ticks": "outside"
            },
            "colorscale": [
             [
              0,
              "#440154"
             ],
             [
              0.1111111111111111,
              "#482878"
             ],
             [
              0.2222222222222222,
              "#3e4989"
             ],
             [
              0.3333333333333333,
              "#31688e"
             ],
             [
              0.4444444444444444,
              "#26828e"
             ],
             [
              0.5555555555555556,
              "#1f9e89"
             ],
             [
              0.6666666666666666,
              "#35b779"
             ],
             [
              0.7777777777777778,
              "#6ece58"
             ],
             [
              0.8888888888888888,
              "#b5de2b"
             ],
             [
              1,
              "#fde725"
             ]
            ],
            "type": "histogram2dcontour"
           }
          ],
          "mesh3d": [
           {
            "colorbar": {
             "outlinewidth": 1,
             "tickcolor": "rgb(36,36,36)",
             "ticks": "outside"
            },
            "type": "mesh3d"
           }
          ],
          "parcoords": [
           {
            "line": {
             "colorbar": {
              "outlinewidth": 1,
              "tickcolor": "rgb(36,36,36)",
              "ticks": "outside"
             }
            },
            "type": "parcoords"
           }
          ],
          "pie": [
           {
            "automargin": true,
            "type": "pie"
           }
          ],
          "scatter": [
           {
            "fillpattern": {
             "fillmode": "overlay",
             "size": 10,
             "solidity": 0.2
            },
            "type": "scatter"
           }
          ],
          "scatter3d": [
           {
            "line": {
             "colorbar": {
              "outlinewidth": 1,
              "tickcolor": "rgb(36,36,36)",
              "ticks": "outside"
             }
            },
            "marker": {
             "colorbar": {
              "outlinewidth": 1,
              "tickcolor": "rgb(36,36,36)",
              "ticks": "outside"
             }
            },
            "type": "scatter3d"
           }
          ],
          "scattercarpet": [
           {
            "marker": {
             "colorbar": {
              "outlinewidth": 1,
              "tickcolor": "rgb(36,36,36)",
              "ticks": "outside"
             }
            },
            "type": "scattercarpet"
           }
          ],
          "scattergeo": [
           {
            "marker": {
             "colorbar": {
              "outlinewidth": 1,
              "tickcolor": "rgb(36,36,36)",
              "ticks": "outside"
             }
            },
            "type": "scattergeo"
           }
          ],
          "scattergl": [
           {
            "marker": {
             "colorbar": {
              "outlinewidth": 1,
              "tickcolor": "rgb(36,36,36)",
              "ticks": "outside"
             }
            },
            "type": "scattergl"
           }
          ],
          "scattermapbox": [
           {
            "marker": {
             "colorbar": {
              "outlinewidth": 1,
              "tickcolor": "rgb(36,36,36)",
              "ticks": "outside"
             }
            },
            "type": "scattermapbox"
           }
          ],
          "scatterpolar": [
           {
            "marker": {
             "colorbar": {
              "outlinewidth": 1,
              "tickcolor": "rgb(36,36,36)",
              "ticks": "outside"
             }
            },
            "type": "scatterpolar"
           }
          ],
          "scatterpolargl": [
           {
            "marker": {
             "colorbar": {
              "outlinewidth": 1,
              "tickcolor": "rgb(36,36,36)",
              "ticks": "outside"
             }
            },
            "type": "scatterpolargl"
           }
          ],
          "scatterternary": [
           {
            "marker": {
             "colorbar": {
              "outlinewidth": 1,
              "tickcolor": "rgb(36,36,36)",
              "ticks": "outside"
             }
            },
            "type": "scatterternary"
           }
          ],
          "surface": [
           {
            "colorbar": {
             "outlinewidth": 1,
             "tickcolor": "rgb(36,36,36)",
             "ticks": "outside"
            },
            "colorscale": [
             [
              0,
              "#440154"
             ],
             [
              0.1111111111111111,
              "#482878"
             ],
             [
              0.2222222222222222,
              "#3e4989"
             ],
             [
              0.3333333333333333,
              "#31688e"
             ],
             [
              0.4444444444444444,
              "#26828e"
             ],
             [
              0.5555555555555556,
              "#1f9e89"
             ],
             [
              0.6666666666666666,
              "#35b779"
             ],
             [
              0.7777777777777778,
              "#6ece58"
             ],
             [
              0.8888888888888888,
              "#b5de2b"
             ],
             [
              1,
              "#fde725"
             ]
            ],
            "type": "surface"
           }
          ],
          "table": [
           {
            "cells": {
             "fill": {
              "color": "rgb(237,237,237)"
             },
             "line": {
              "color": "white"
             }
            },
            "header": {
             "fill": {
              "color": "rgb(217,217,217)"
             },
             "line": {
              "color": "white"
             }
            },
            "type": "table"
           }
          ]
         },
         "layout": {
          "annotationdefaults": {
           "arrowhead": 0,
           "arrowwidth": 1
          },
          "autotypenumbers": "strict",
          "coloraxis": {
           "colorbar": {
            "outlinewidth": 1,
            "tickcolor": "rgb(36,36,36)",
            "ticks": "outside"
           }
          },
          "colorscale": {
           "diverging": [
            [
             0,
             "rgb(103,0,31)"
            ],
            [
             0.1,
             "rgb(178,24,43)"
            ],
            [
             0.2,
             "rgb(214,96,77)"
            ],
            [
             0.3,
             "rgb(244,165,130)"
            ],
            [
             0.4,
             "rgb(253,219,199)"
            ],
            [
             0.5,
             "rgb(247,247,247)"
            ],
            [
             0.6,
             "rgb(209,229,240)"
            ],
            [
             0.7,
             "rgb(146,197,222)"
            ],
            [
             0.8,
             "rgb(67,147,195)"
            ],
            [
             0.9,
             "rgb(33,102,172)"
            ],
            [
             1,
             "rgb(5,48,97)"
            ]
           ],
           "sequential": [
            [
             0,
             "#440154"
            ],
            [
             0.1111111111111111,
             "#482878"
            ],
            [
             0.2222222222222222,
             "#3e4989"
            ],
            [
             0.3333333333333333,
             "#31688e"
            ],
            [
             0.4444444444444444,
             "#26828e"
            ],
            [
             0.5555555555555556,
             "#1f9e89"
            ],
            [
             0.6666666666666666,
             "#35b779"
            ],
            [
             0.7777777777777778,
             "#6ece58"
            ],
            [
             0.8888888888888888,
             "#b5de2b"
            ],
            [
             1,
             "#fde725"
            ]
           ],
           "sequentialminus": [
            [
             0,
             "#440154"
            ],
            [
             0.1111111111111111,
             "#482878"
            ],
            [
             0.2222222222222222,
             "#3e4989"
            ],
            [
             0.3333333333333333,
             "#31688e"
            ],
            [
             0.4444444444444444,
             "#26828e"
            ],
            [
             0.5555555555555556,
             "#1f9e89"
            ],
            [
             0.6666666666666666,
             "#35b779"
            ],
            [
             0.7777777777777778,
             "#6ece58"
            ],
            [
             0.8888888888888888,
             "#b5de2b"
            ],
            [
             1,
             "#fde725"
            ]
           ]
          },
          "colorway": [
           "#1F77B4",
           "#FF7F0E",
           "#2CA02C",
           "#D62728",
           "#9467BD",
           "#8C564B",
           "#E377C2",
           "#7F7F7F",
           "#BCBD22",
           "#17BECF"
          ],
          "font": {
           "color": "rgb(36,36,36)"
          },
          "geo": {
           "bgcolor": "white",
           "lakecolor": "white",
           "landcolor": "white",
           "showlakes": true,
           "showland": true,
           "subunitcolor": "white"
          },
          "hoverlabel": {
           "align": "left"
          },
          "hovermode": "closest",
          "mapbox": {
           "style": "light"
          },
          "paper_bgcolor": "white",
          "plot_bgcolor": "white",
          "polar": {
           "angularaxis": {
            "gridcolor": "rgb(232,232,232)",
            "linecolor": "rgb(36,36,36)",
            "showgrid": false,
            "showline": true,
            "ticks": "outside"
           },
           "bgcolor": "white",
           "radialaxis": {
            "gridcolor": "rgb(232,232,232)",
            "linecolor": "rgb(36,36,36)",
            "showgrid": false,
            "showline": true,
            "ticks": "outside"
           }
          },
          "scene": {
           "xaxis": {
            "backgroundcolor": "white",
            "gridcolor": "rgb(232,232,232)",
            "gridwidth": 2,
            "linecolor": "rgb(36,36,36)",
            "showbackground": true,
            "showgrid": false,
            "showline": true,
            "ticks": "outside",
            "zeroline": false,
            "zerolinecolor": "rgb(36,36,36)"
           },
           "yaxis": {
            "backgroundcolor": "white",
            "gridcolor": "rgb(232,232,232)",
            "gridwidth": 2,
            "linecolor": "rgb(36,36,36)",
            "showbackground": true,
            "showgrid": false,
            "showline": true,
            "ticks": "outside",
            "zeroline": false,
            "zerolinecolor": "rgb(36,36,36)"
           },
           "zaxis": {
            "backgroundcolor": "white",
            "gridcolor": "rgb(232,232,232)",
            "gridwidth": 2,
            "linecolor": "rgb(36,36,36)",
            "showbackground": true,
            "showgrid": false,
            "showline": true,
            "ticks": "outside",
            "zeroline": false,
            "zerolinecolor": "rgb(36,36,36)"
           }
          },
          "shapedefaults": {
           "fillcolor": "black",
           "line": {
            "width": 0
           },
           "opacity": 0.3
          },
          "ternary": {
           "aaxis": {
            "gridcolor": "rgb(232,232,232)",
            "linecolor": "rgb(36,36,36)",
            "showgrid": false,
            "showline": true,
            "ticks": "outside"
           },
           "baxis": {
            "gridcolor": "rgb(232,232,232)",
            "linecolor": "rgb(36,36,36)",
            "showgrid": false,
            "showline": true,
            "ticks": "outside"
           },
           "bgcolor": "white",
           "caxis": {
            "gridcolor": "rgb(232,232,232)",
            "linecolor": "rgb(36,36,36)",
            "showgrid": false,
            "showline": true,
            "ticks": "outside"
           }
          },
          "title": {
           "x": 0.05
          },
          "xaxis": {
           "automargin": true,
           "gridcolor": "rgb(232,232,232)",
           "linecolor": "rgb(36,36,36)",
           "showgrid": false,
           "showline": true,
           "ticks": "outside",
           "title": {
            "standoff": 15
           },
           "zeroline": false,
           "zerolinecolor": "rgb(36,36,36)"
          },
          "yaxis": {
           "automargin": true,
           "gridcolor": "rgb(232,232,232)",
           "linecolor": "rgb(36,36,36)",
           "showgrid": false,
           "showline": true,
           "ticks": "outside",
           "title": {
            "standoff": 15
           },
           "zeroline": false,
           "zerolinecolor": "rgb(36,36,36)"
          }
         }
        },
        "title": {
         "text": "Production vs Demande"
        },
        "xaxis": {
         "title": {
          "text": "Semaine [-]"
         }
        },
        "yaxis": {
         "title": {
          "text": "Nombre de vélos [-]"
         }
        }
       }
      }
     },
     "metadata": {},
     "output_type": "display_data"
    }
   ],
   "source": [
    "fig = go.Figure()\n",
    "fig.add_trace(go.Scatter(x=df_all[\"Semaine\"], y=df_all[\"Prod_totale\"], name=\"Production totale\", mode=\"lines+markers\", line=dict(color=\"royalblue\")))\n",
    "fig.add_trace(go.Scatter(x=df_all[\"Semaine\"], y=df_all[\"Demande\"], name=\"Demande\", mode=\"lines+markers\", line=dict(color=\"crimson\", dash=\"dash\")))\n",
    "fig.update_layout(title=\"Production vs Demande\", xaxis_title=\"Semaine [-]\", yaxis_title=\"Nombre de vélos [-]\", template=\"simple_white\")\n",
    "fig.show()"
   ]
  },
  {
   "cell_type": "markdown",
   "id": "b2e85892",
   "metadata": {},
   "source": [
    "La production suit une trajectoire relativement régulière malgré la demande qui présente une forte variabilité. Cela est dû en partie à une gestion lissée, visant à éviter les pics de charge coûteux ou irréalistes."
   ]
  },
  {
   "cell_type": "markdown",
   "id": "58c53f45",
   "metadata": {},
   "source": [
    "\n",
    "### Observations\n",
    "\n",
    "**Satisfaction maîtrisée de la demande.**  \n",
    "Le premier graphe montre que de manière générale, l’entreprise satisfait la demande en livrant dans les temps même si certains retards peuvent apparaître (semaine 5). Cela illustre un équilibre efficace entre production anticipée, utilisation du stock et retards.\n",
    "\n",
    "**Stabilité de la production**  \n",
    "La 3ème figure nous montre l’utilité de ce projet : répondre à des demandes variables, en produisant de manière stable et à moindre coût. En effet, même si la demande subit des pics, la production hebdomadaire ne varie que très peu. Une bonne utilisation du stock et des retards permet d’arriver à cette stabilité.\n",
    "\n",
    "**Répartition des ressources.**  \n",
    "Sur les diagrammes circulaires, on peut observer que l’entreprise cherche à maximiser l’utilisation des moyens internes. Cette volonté est logique car se rendre trop dépendant des sous-traitants ou des heures supplémentaires des employés fragilise l’entreprise qui est alors plus vulnérable aux variations du marché. En effet, la production standard représente la grande majorité du volume produit, ce qui limite les surcoûts liés aux heures supplémentaires et à la sous-traitance. Cela explique la structure du coût total dû essentiellement aux salaires fixes et les matériaux.\n",
    "\n",
    "**Retards et stock**  \n",
    "Le recours au stock et aux retards agit comme sécurité pour absorber les pics de demande. Ces mécanismes sont utilisés avec parcimonie, preuve que le modèle parvient à satisfaire les contraintes tout en limitant les pénalités. Cela est crucial dans un contexte où la demande peut fluctuer fortement."
   ]
  },
  {
   "cell_type": "markdown",
   "id": "c2fd28df",
   "metadata": {},
   "source": [
    "---\n",
    "### Performances du solver\n",
    "Au-delà de la qualité de la solution, il est important d'évaluer la éfficacité de résolution du modèle. Pour cela, nous avons mesuré les temps d'exécution du solveur sur 10 éxecutions consécutives. Les résultats obtenus sont présentés ci-dessous."
   ]
  },
  {
   "cell_type": "code",
   "execution_count": 69,
   "id": "471500ba",
   "metadata": {},
   "outputs": [
    {
     "data": {
      "application/vnd.plotly.v1+json": {
       "config": {
        "plotlyServerURL": "https://plot.ly"
       },
       "data": [
        {
         "marker": {
          "color": "lightblue"
         },
         "name": "Temps",
         "type": "bar",
         "x": [
          "Run 1",
          "Run 2",
          "Run 3",
          "Run 4",
          "Run 5",
          "Run 6",
          "Run 7",
          "Run 8",
          "Run 9",
          "Run 10"
         ],
         "y": [
          0,
          0.011552095413208008,
          0,
          0,
          0.01231241226196289,
          0.003797292709350586,
          0.009222745895385742,
          0.00448298454284668,
          0.004034519195556641,
          0.0035490989685058594
         ]
        },
        {
         "line": {
          "color": "red",
          "dash": "dash"
         },
         "mode": "lines",
         "name": "Moyenne = 0.0049s",
         "type": "scatter",
         "x": [
          "Run 1",
          "Run 2",
          "Run 3",
          "Run 4",
          "Run 5",
          "Run 6",
          "Run 7",
          "Run 8",
          "Run 9",
          "Run 10"
         ],
         "y": [
          0.00489511489868164,
          0.00489511489868164,
          0.00489511489868164,
          0.00489511489868164,
          0.00489511489868164,
          0.00489511489868164,
          0.00489511489868164,
          0.00489511489868164,
          0.00489511489868164,
          0.00489511489868164
         ]
        }
       ],
       "layout": {
        "template": {
         "data": {
          "bar": [
           {
            "error_x": {
             "color": "rgb(36,36,36)"
            },
            "error_y": {
             "color": "rgb(36,36,36)"
            },
            "marker": {
             "line": {
              "color": "white",
              "width": 0.5
             },
             "pattern": {
              "fillmode": "overlay",
              "size": 10,
              "solidity": 0.2
             }
            },
            "type": "bar"
           }
          ],
          "barpolar": [
           {
            "marker": {
             "line": {
              "color": "white",
              "width": 0.5
             },
             "pattern": {
              "fillmode": "overlay",
              "size": 10,
              "solidity": 0.2
             }
            },
            "type": "barpolar"
           }
          ],
          "carpet": [
           {
            "aaxis": {
             "endlinecolor": "rgb(36,36,36)",
             "gridcolor": "white",
             "linecolor": "white",
             "minorgridcolor": "white",
             "startlinecolor": "rgb(36,36,36)"
            },
            "baxis": {
             "endlinecolor": "rgb(36,36,36)",
             "gridcolor": "white",
             "linecolor": "white",
             "minorgridcolor": "white",
             "startlinecolor": "rgb(36,36,36)"
            },
            "type": "carpet"
           }
          ],
          "choropleth": [
           {
            "colorbar": {
             "outlinewidth": 1,
             "tickcolor": "rgb(36,36,36)",
             "ticks": "outside"
            },
            "type": "choropleth"
           }
          ],
          "contour": [
           {
            "colorbar": {
             "outlinewidth": 1,
             "tickcolor": "rgb(36,36,36)",
             "ticks": "outside"
            },
            "colorscale": [
             [
              0,
              "#440154"
             ],
             [
              0.1111111111111111,
              "#482878"
             ],
             [
              0.2222222222222222,
              "#3e4989"
             ],
             [
              0.3333333333333333,
              "#31688e"
             ],
             [
              0.4444444444444444,
              "#26828e"
             ],
             [
              0.5555555555555556,
              "#1f9e89"
             ],
             [
              0.6666666666666666,
              "#35b779"
             ],
             [
              0.7777777777777778,
              "#6ece58"
             ],
             [
              0.8888888888888888,
              "#b5de2b"
             ],
             [
              1,
              "#fde725"
             ]
            ],
            "type": "contour"
           }
          ],
          "contourcarpet": [
           {
            "colorbar": {
             "outlinewidth": 1,
             "tickcolor": "rgb(36,36,36)",
             "ticks": "outside"
            },
            "type": "contourcarpet"
           }
          ],
          "heatmap": [
           {
            "colorbar": {
             "outlinewidth": 1,
             "tickcolor": "rgb(36,36,36)",
             "ticks": "outside"
            },
            "colorscale": [
             [
              0,
              "#440154"
             ],
             [
              0.1111111111111111,
              "#482878"
             ],
             [
              0.2222222222222222,
              "#3e4989"
             ],
             [
              0.3333333333333333,
              "#31688e"
             ],
             [
              0.4444444444444444,
              "#26828e"
             ],
             [
              0.5555555555555556,
              "#1f9e89"
             ],
             [
              0.6666666666666666,
              "#35b779"
             ],
             [
              0.7777777777777778,
              "#6ece58"
             ],
             [
              0.8888888888888888,
              "#b5de2b"
             ],
             [
              1,
              "#fde725"
             ]
            ],
            "type": "heatmap"
           }
          ],
          "heatmapgl": [
           {
            "colorbar": {
             "outlinewidth": 1,
             "tickcolor": "rgb(36,36,36)",
             "ticks": "outside"
            },
            "colorscale": [
             [
              0,
              "#440154"
             ],
             [
              0.1111111111111111,
              "#482878"
             ],
             [
              0.2222222222222222,
              "#3e4989"
             ],
             [
              0.3333333333333333,
              "#31688e"
             ],
             [
              0.4444444444444444,
              "#26828e"
             ],
             [
              0.5555555555555556,
              "#1f9e89"
             ],
             [
              0.6666666666666666,
              "#35b779"
             ],
             [
              0.7777777777777778,
              "#6ece58"
             ],
             [
              0.8888888888888888,
              "#b5de2b"
             ],
             [
              1,
              "#fde725"
             ]
            ],
            "type": "heatmapgl"
           }
          ],
          "histogram": [
           {
            "marker": {
             "line": {
              "color": "white",
              "width": 0.6
             }
            },
            "type": "histogram"
           }
          ],
          "histogram2d": [
           {
            "colorbar": {
             "outlinewidth": 1,
             "tickcolor": "rgb(36,36,36)",
             "ticks": "outside"
            },
            "colorscale": [
             [
              0,
              "#440154"
             ],
             [
              0.1111111111111111,
              "#482878"
             ],
             [
              0.2222222222222222,
              "#3e4989"
             ],
             [
              0.3333333333333333,
              "#31688e"
             ],
             [
              0.4444444444444444,
              "#26828e"
             ],
             [
              0.5555555555555556,
              "#1f9e89"
             ],
             [
              0.6666666666666666,
              "#35b779"
             ],
             [
              0.7777777777777778,
              "#6ece58"
             ],
             [
              0.8888888888888888,
              "#b5de2b"
             ],
             [
              1,
              "#fde725"
             ]
            ],
            "type": "histogram2d"
           }
          ],
          "histogram2dcontour": [
           {
            "colorbar": {
             "outlinewidth": 1,
             "tickcolor": "rgb(36,36,36)",
             "ticks": "outside"
            },
            "colorscale": [
             [
              0,
              "#440154"
             ],
             [
              0.1111111111111111,
              "#482878"
             ],
             [
              0.2222222222222222,
              "#3e4989"
             ],
             [
              0.3333333333333333,
              "#31688e"
             ],
             [
              0.4444444444444444,
              "#26828e"
             ],
             [
              0.5555555555555556,
              "#1f9e89"
             ],
             [
              0.6666666666666666,
              "#35b779"
             ],
             [
              0.7777777777777778,
              "#6ece58"
             ],
             [
              0.8888888888888888,
              "#b5de2b"
             ],
             [
              1,
              "#fde725"
             ]
            ],
            "type": "histogram2dcontour"
           }
          ],
          "mesh3d": [
           {
            "colorbar": {
             "outlinewidth": 1,
             "tickcolor": "rgb(36,36,36)",
             "ticks": "outside"
            },
            "type": "mesh3d"
           }
          ],
          "parcoords": [
           {
            "line": {
             "colorbar": {
              "outlinewidth": 1,
              "tickcolor": "rgb(36,36,36)",
              "ticks": "outside"
             }
            },
            "type": "parcoords"
           }
          ],
          "pie": [
           {
            "automargin": true,
            "type": "pie"
           }
          ],
          "scatter": [
           {
            "fillpattern": {
             "fillmode": "overlay",
             "size": 10,
             "solidity": 0.2
            },
            "type": "scatter"
           }
          ],
          "scatter3d": [
           {
            "line": {
             "colorbar": {
              "outlinewidth": 1,
              "tickcolor": "rgb(36,36,36)",
              "ticks": "outside"
             }
            },
            "marker": {
             "colorbar": {
              "outlinewidth": 1,
              "tickcolor": "rgb(36,36,36)",
              "ticks": "outside"
             }
            },
            "type": "scatter3d"
           }
          ],
          "scattercarpet": [
           {
            "marker": {
             "colorbar": {
              "outlinewidth": 1,
              "tickcolor": "rgb(36,36,36)",
              "ticks": "outside"
             }
            },
            "type": "scattercarpet"
           }
          ],
          "scattergeo": [
           {
            "marker": {
             "colorbar": {
              "outlinewidth": 1,
              "tickcolor": "rgb(36,36,36)",
              "ticks": "outside"
             }
            },
            "type": "scattergeo"
           }
          ],
          "scattergl": [
           {
            "marker": {
             "colorbar": {
              "outlinewidth": 1,
              "tickcolor": "rgb(36,36,36)",
              "ticks": "outside"
             }
            },
            "type": "scattergl"
           }
          ],
          "scattermapbox": [
           {
            "marker": {
             "colorbar": {
              "outlinewidth": 1,
              "tickcolor": "rgb(36,36,36)",
              "ticks": "outside"
             }
            },
            "type": "scattermapbox"
           }
          ],
          "scatterpolar": [
           {
            "marker": {
             "colorbar": {
              "outlinewidth": 1,
              "tickcolor": "rgb(36,36,36)",
              "ticks": "outside"
             }
            },
            "type": "scatterpolar"
           }
          ],
          "scatterpolargl": [
           {
            "marker": {
             "colorbar": {
              "outlinewidth": 1,
              "tickcolor": "rgb(36,36,36)",
              "ticks": "outside"
             }
            },
            "type": "scatterpolargl"
           }
          ],
          "scatterternary": [
           {
            "marker": {
             "colorbar": {
              "outlinewidth": 1,
              "tickcolor": "rgb(36,36,36)",
              "ticks": "outside"
             }
            },
            "type": "scatterternary"
           }
          ],
          "surface": [
           {
            "colorbar": {
             "outlinewidth": 1,
             "tickcolor": "rgb(36,36,36)",
             "ticks": "outside"
            },
            "colorscale": [
             [
              0,
              "#440154"
             ],
             [
              0.1111111111111111,
              "#482878"
             ],
             [
              0.2222222222222222,
              "#3e4989"
             ],
             [
              0.3333333333333333,
              "#31688e"
             ],
             [
              0.4444444444444444,
              "#26828e"
             ],
             [
              0.5555555555555556,
              "#1f9e89"
             ],
             [
              0.6666666666666666,
              "#35b779"
             ],
             [
              0.7777777777777778,
              "#6ece58"
             ],
             [
              0.8888888888888888,
              "#b5de2b"
             ],
             [
              1,
              "#fde725"
             ]
            ],
            "type": "surface"
           }
          ],
          "table": [
           {
            "cells": {
             "fill": {
              "color": "rgb(237,237,237)"
             },
             "line": {
              "color": "white"
             }
            },
            "header": {
             "fill": {
              "color": "rgb(217,217,217)"
             },
             "line": {
              "color": "white"
             }
            },
            "type": "table"
           }
          ]
         },
         "layout": {
          "annotationdefaults": {
           "arrowhead": 0,
           "arrowwidth": 1
          },
          "autotypenumbers": "strict",
          "coloraxis": {
           "colorbar": {
            "outlinewidth": 1,
            "tickcolor": "rgb(36,36,36)",
            "ticks": "outside"
           }
          },
          "colorscale": {
           "diverging": [
            [
             0,
             "rgb(103,0,31)"
            ],
            [
             0.1,
             "rgb(178,24,43)"
            ],
            [
             0.2,
             "rgb(214,96,77)"
            ],
            [
             0.3,
             "rgb(244,165,130)"
            ],
            [
             0.4,
             "rgb(253,219,199)"
            ],
            [
             0.5,
             "rgb(247,247,247)"
            ],
            [
             0.6,
             "rgb(209,229,240)"
            ],
            [
             0.7,
             "rgb(146,197,222)"
            ],
            [
             0.8,
             "rgb(67,147,195)"
            ],
            [
             0.9,
             "rgb(33,102,172)"
            ],
            [
             1,
             "rgb(5,48,97)"
            ]
           ],
           "sequential": [
            [
             0,
             "#440154"
            ],
            [
             0.1111111111111111,
             "#482878"
            ],
            [
             0.2222222222222222,
             "#3e4989"
            ],
            [
             0.3333333333333333,
             "#31688e"
            ],
            [
             0.4444444444444444,
             "#26828e"
            ],
            [
             0.5555555555555556,
             "#1f9e89"
            ],
            [
             0.6666666666666666,
             "#35b779"
            ],
            [
             0.7777777777777778,
             "#6ece58"
            ],
            [
             0.8888888888888888,
             "#b5de2b"
            ],
            [
             1,
             "#fde725"
            ]
           ],
           "sequentialminus": [
            [
             0,
             "#440154"
            ],
            [
             0.1111111111111111,
             "#482878"
            ],
            [
             0.2222222222222222,
             "#3e4989"
            ],
            [
             0.3333333333333333,
             "#31688e"
            ],
            [
             0.4444444444444444,
             "#26828e"
            ],
            [
             0.5555555555555556,
             "#1f9e89"
            ],
            [
             0.6666666666666666,
             "#35b779"
            ],
            [
             0.7777777777777778,
             "#6ece58"
            ],
            [
             0.8888888888888888,
             "#b5de2b"
            ],
            [
             1,
             "#fde725"
            ]
           ]
          },
          "colorway": [
           "#1F77B4",
           "#FF7F0E",
           "#2CA02C",
           "#D62728",
           "#9467BD",
           "#8C564B",
           "#E377C2",
           "#7F7F7F",
           "#BCBD22",
           "#17BECF"
          ],
          "font": {
           "color": "rgb(36,36,36)"
          },
          "geo": {
           "bgcolor": "white",
           "lakecolor": "white",
           "landcolor": "white",
           "showlakes": true,
           "showland": true,
           "subunitcolor": "white"
          },
          "hoverlabel": {
           "align": "left"
          },
          "hovermode": "closest",
          "mapbox": {
           "style": "light"
          },
          "paper_bgcolor": "white",
          "plot_bgcolor": "white",
          "polar": {
           "angularaxis": {
            "gridcolor": "rgb(232,232,232)",
            "linecolor": "rgb(36,36,36)",
            "showgrid": false,
            "showline": true,
            "ticks": "outside"
           },
           "bgcolor": "white",
           "radialaxis": {
            "gridcolor": "rgb(232,232,232)",
            "linecolor": "rgb(36,36,36)",
            "showgrid": false,
            "showline": true,
            "ticks": "outside"
           }
          },
          "scene": {
           "xaxis": {
            "backgroundcolor": "white",
            "gridcolor": "rgb(232,232,232)",
            "gridwidth": 2,
            "linecolor": "rgb(36,36,36)",
            "showbackground": true,
            "showgrid": false,
            "showline": true,
            "ticks": "outside",
            "zeroline": false,
            "zerolinecolor": "rgb(36,36,36)"
           },
           "yaxis": {
            "backgroundcolor": "white",
            "gridcolor": "rgb(232,232,232)",
            "gridwidth": 2,
            "linecolor": "rgb(36,36,36)",
            "showbackground": true,
            "showgrid": false,
            "showline": true,
            "ticks": "outside",
            "zeroline": false,
            "zerolinecolor": "rgb(36,36,36)"
           },
           "zaxis": {
            "backgroundcolor": "white",
            "gridcolor": "rgb(232,232,232)",
            "gridwidth": 2,
            "linecolor": "rgb(36,36,36)",
            "showbackground": true,
            "showgrid": false,
            "showline": true,
            "ticks": "outside",
            "zeroline": false,
            "zerolinecolor": "rgb(36,36,36)"
           }
          },
          "shapedefaults": {
           "fillcolor": "black",
           "line": {
            "width": 0
           },
           "opacity": 0.3
          },
          "ternary": {
           "aaxis": {
            "gridcolor": "rgb(232,232,232)",
            "linecolor": "rgb(36,36,36)",
            "showgrid": false,
            "showline": true,
            "ticks": "outside"
           },
           "baxis": {
            "gridcolor": "rgb(232,232,232)",
            "linecolor": "rgb(36,36,36)",
            "showgrid": false,
            "showline": true,
            "ticks": "outside"
           },
           "bgcolor": "white",
           "caxis": {
            "gridcolor": "rgb(232,232,232)",
            "linecolor": "rgb(36,36,36)",
            "showgrid": false,
            "showline": true,
            "ticks": "outside"
           }
          },
          "title": {
           "x": 0.05
          },
          "xaxis": {
           "automargin": true,
           "gridcolor": "rgb(232,232,232)",
           "linecolor": "rgb(36,36,36)",
           "showgrid": false,
           "showline": true,
           "ticks": "outside",
           "title": {
            "standoff": 15
           },
           "zeroline": false,
           "zerolinecolor": "rgb(36,36,36)"
          },
          "yaxis": {
           "automargin": true,
           "gridcolor": "rgb(232,232,232)",
           "linecolor": "rgb(36,36,36)",
           "showgrid": false,
           "showline": true,
           "ticks": "outside",
           "title": {
            "standoff": 15
           },
           "zeroline": false,
           "zerolinecolor": "rgb(36,36,36)"
          }
         }
        },
        "title": {
         "text": "Temps de résolution du modèle"
        },
        "xaxis": {
         "title": {
          "text": "Exécution [-]"
         }
        },
        "yaxis": {
         "title": {
          "text": "Temps [s]"
         }
        }
       }
      }
     },
     "metadata": {},
     "output_type": "display_data"
    }
   ],
   "source": [
    "def resoudre_modele():\n",
    "    problem.solve(solver=cp.GLPK)\n",
    "temps_resolution = []\n",
    "\n",
    "for _ in range(10):\n",
    "    start = time.time()\n",
    "    resoudre_modele()\n",
    "    end = time.time()\n",
    "    temps_resolution.append(end - start)\n",
    "\n",
    "\n",
    "moyenne = mean(temps_resolution)\n",
    "\n",
    "fig = go.Figure()\n",
    "fig.add_trace(go.Bar(x=[f\"Run {i+1}\" for i in range(10)], y=temps_resolution, name=\"Temps\", marker_color=\"lightblue\"))\n",
    "fig.add_trace(go.Scatter(x=[f\"Run {i+1}\" for i in range(10)], y=[moyenne]*10, mode=\"lines\", name=f\"Moyenne = {moyenne:.4f}s\", line=dict(color=\"red\", dash=\"dash\")))\n",
    "fig.update_layout(title=\"Temps de résolution du modèle\", xaxis_title=\"Exécution [-]\", yaxis_title=\"Temps [s]\", template=\"simple_white\")\n",
    "fig.show()\n"
   ]
  },
  {
   "cell_type": "markdown",
   "id": "1999fda0",
   "metadata": {},
   "source": [
    "Les temps de résolution sont quasiment instantanés. Le solveur GLPK fournit donc une solution de manière rapide et stable, avec une variabilité négligeable entre les exécutions. Cela traduit donc une formulation efficace de notre modèle, il est donc bien conditionné."
   ]
  },
  {
   "cell_type": "markdown",
   "id": "845750f9",
   "metadata": {},
   "source": [
    "---\n",
    "\n",
    "##  Question 2 : Variation de la demande prévue : Procédure d'évaluation et analyse\n",
    "\n",
    "Dans cette section, nous cherchons à anticiper l'effet d'une petite variation du vecteur de demande hebdomadaire sur la solution optimale obtenue par notre modèle, sans avoir à relancer la résolution complète du programme. Cela permet de faire une analyse de sensibilité efficace, utile pour évaluer la robustesse du plan de production face à de légers imprévus.\n",
    "\n",
    "L’idée est d’utiliser les outils d’analyse post-optimale, et en particulier les valeurs duales, pour estimer comment la valeur optimale évolue si la demande change légèrement.\n"
   ]
  },
  {
   "cell_type": "markdown",
   "id": "020e48c1",
   "metadata": {},
   "source": [
    "###  2.1. Déscription de la procédure\n",
    "\n",
    "> ⚠️ **Rappel théorique — Analyse post-optimale sur le second membre**\n",
    "\n",
    "Considérons un programme linéaire standard :\n",
    "\n",
    "$$ \n",
    "\\min \\, c^T x \\quad \\text{tel que} \\quad Ax = b, \\quad x \\geq 0 \n",
    "$$\n",
    "\n",
    "Soit $B$ une base optimale du système, alors :\n",
    "\n",
    "- La solution optimale du primal est $x^* = (x_B^*, x_N^*) = (B^{-1}b, 0)$  \n",
    "- La solution optimale du dual est $y^* = B^{-T}c_B$  \n",
    "- La valeur optimale est $z^* = c^T x^* = c_B^T B^{-1}b$  \n",
    "\n",
    "Si on modifie le second membre selon $b \\to b + \\varepsilon \\cdot \\delta b$, alors tant que la base $B$ reste optimale, la nouvelle valeur optimale est donnée par :\n",
    "\n",
    "$$ \n",
    "z^*(\\varepsilon) = z^* + \\varepsilon \\cdot y^{*T} \\delta b \n",
    "$$\n",
    "\n",
    "où $y^*$ est la solution du dual. Chaque composante $y_i^*$ représente le coût marginal associé à la contrainte $i$, c’est-à-dire l’augmentation du coût objectif pour une unité de relâchement sur cette contrainte.\n",
    "\n",
    "---\n",
    "\n",
    "\n",
    "#### Procédure adaptée à notre modèle de production\n",
    "\n",
    "Nous souhaitons analyser l’effet d’une variation de la demande :\n",
    "\n",
    "$$\n",
    "\\text{demande} \\quad \\longrightarrow \\quad \\text{demande} + \\varepsilon \\cdot \\text{delta\\_demande}\n",
    "$$\n",
    "\n",
    "où :\n",
    "\n",
    "- delta_demande $\\in \\mathbb{R}^T$ est un vecteur de perturbation (par exemple : hausse à la semaine 5, ou diminution à la semaine 7),\n",
    "- $\\varepsilon \\in [0,1]$ est un petit paramètre scalaire.\n",
    "\n",
    "#### Étapes de la procédure\n",
    "\n",
    "1. **Résolution initiale du modèle**  \n",
    "   On résout une première fois le modèle avec la demande originale. On en extrait les valeurs duales $y^*$ associées aux contraintes de bilan hebdomadaire :\n",
    "\n",
    "   $$\n",
    "   \\text{stock} + \\text{production} + \\text{retards} = \\text{demande} + \\text{stock futur}\n",
    "   $$\n",
    "\n",
    "   Ces duals $y^*$ représentent la sensibilité locale du coût optimal à la variation de chaque contrainte.\n",
    "\n",
    "2. **Accès aux duals dans le code**  \n",
    "   Avec CVXPY, on récupère ces valeurs duales grâce à l’attribut `.dual_value`. On obtient ainsi :\n",
    "\n",
    "   $$\n",
    "   y^* = [y_1^*, y_2^*, \\dots, y_T^*] \\in \\mathbb{R}^T\n",
    "   $$\n",
    "\n",
    "3. **Perturbation imposée sur la demande**  \n",
    "   Le vecteur `delta_demande` est fourni par l’énoncé. Il représente une variation ciblée de la demande sur certaines semaines, par exemple une hausse ponctuelle en semaines 4 et 5, et une baisse en semaine 6 :\n",
    "\n",
    "   ```python\n",
    "   delta_demande = [0, 0, 0, +100, +200, -100, 0, 0, 0, 0, 0]\n",
    "\n",
    "4. **Estimation du coût après variation**  \n",
    "   Grâce à l’analyse post-optimale, le nouveau coût optimal peut être estimé sans nouvelle résolution :\n",
    "\n",
    "   $$\n",
    "   z_{\\text{estimé}}(\\varepsilon) = z_{\\text{initial}} + \\varepsilon \\cdot y^{*T} \\cdot \\text{delta\\_demande}\n",
    "   $$\n",
    "\n"
   ]
  },
  {
   "cell_type": "markdown",
   "id": "0d70a58d",
   "metadata": {},
   "source": [
    "---\n",
    "###  2.2. Test, comparaison et analyse\n",
    "\n",
    "Après avoir établi une méthode d’approximation du coût total dans la question précédente, nous proposons ici de la tester numériquement à l’aide des données du projet.\n",
    "\n",
    "L’objectif est de mesurer, pour différentes valeurs du paramètre $ \\varepsilon $, l’écart entre :\n",
    "\n",
    "- le coût exact, obtenu en résolvant complètement le modèle avec une demande perturbée ;\n",
    "- et le coût estimé, prédit par l’approximation linéaire basée sur les valeurs duales associées aux contraintes de satisfaction de la demande.\n",
    "\n",
    "1. On résout le modèle une première fois avec la demande de base, et on extrait la valeur optimale $ f(0) $ ainsi que les valeurs duales $ y^* $ associées aux contraintes de livraison.\n",
    "\n",
    "2. On calcule le coût approximé pour une demande perturbée de la forme  \n",
    "   $ \\texttt{demande} + \\varepsilon \\cdot \\texttt{delta\\_demande} $  \n",
    "   via la formule linéaire :\n",
    "\n",
    "$$\n",
    "f(\\varepsilon) \\approx f(0) + \\varepsilon \\cdot y^{*T} \\cdot \\texttt{delta\\_demande}\n",
    "$$\n",
    "\n",
    "3. Pour différentes valeurs de $ \\varepsilon \\in [0, 1] $, on compare :\n",
    "\n",
    "- $ f_{\\text{exact}}(\\varepsilon) $, obtenu en résolvant à nouveau complètement le programme ;\n",
    "- $ f_{\\text{linéaire}}(\\varepsilon) $, l’estimation basée sur les valeurs duales.\n"
   ]
  },
  {
   "cell_type": "code",
   "execution_count": 70,
   "id": "1fbda6bc",
   "metadata": {},
   "outputs": [],
   "source": [
    "def resolution_dual(demande_modif):\n",
    "    P = cp.Variable(T, nonneg=True)\n",
    "    H = cp.Variable(T, nonneg=True)\n",
    "    ST = cp.Variable(T, nonneg=True)\n",
    "    S = cp.Variable(T + 1, nonneg=True)\n",
    "    R1 = cp.Variable(T, nonneg=True)\n",
    "    R2 = cp.Variable(T, nonneg=True)\n",
    "\n",
    "    contraintes = [S[0] == stock_initial, S[T] == stock_initial,\n",
    "                   R1[T-1] == 0, R2[T-1] == 0, R2[T-2] == 0]\n",
    "    contraintes_egalite = []\n",
    "\n",
    "    for s in range(T):\n",
    "        prod = P[s] + ST[s] + (H[s] * 60 / duree_assemblage)\n",
    "        demande_totale = demande_modif[s] + (R1[s-1] if s >= 1 else 0) + (R2[s-2] if s >= 2 else 0)\n",
    "        eq = S[s] + prod + R1[s] + R2[s] == demande_totale + S[s+1]\n",
    "        contraintes.append(eq)\n",
    "        contraintes_egalite.append(eq)\n",
    "        contraintes += [P[s] * duree_assemblage <= nb_ouvriers * nb_max_heures_classique * 60,\n",
    "                        H[s] <= nb_max_heure_sup * nb_ouvriers,\n",
    "                        ST[s] <= nb_max_sous_traitant]\n",
    "    for s in range(1, T):\n",
    "        contraintes.append(R1[s] <= demande_modif[s-1])\n",
    "    for s in range(2, T):\n",
    "        contraintes.append(R2[s] <= demande_modif[s-2] - R1[s-1])\n",
    "\n",
    "    cout = cp.sum(\n",
    "        cout_materiaux * (P + (H * 60 / duree_assemblage)) +\n",
    "        cout_heure_sup * H +\n",
    "        cout_sous_traitant * ST +\n",
    "        cout_stockage * S[1:] +\n",
    "        penalite_1semaine * R1 +\n",
    "        penalite_2semaines * R2\n",
    "    ) + nb_ouvriers * nb_heures_remunerees * cout_horaire * T\n",
    "\n",
    "    probleme = cp.Problem(cp.Minimize(cout), contraintes)\n",
    "    probleme.solve(solver=cp.GLPK)\n",
    "    duals = np.array([c.dual_value for c in contraintes_egalite])\n",
    "    return probleme.value, duals\n",
    "\n",
    "delta_demande = np.array([0, 0, 0, 100, 200, -100, 0, 0, 0, 0, 0])\n",
    "cout_optimal, duals = resolution_dual(demande)\n",
    "dy = np.dot(delta_demande, duals)"
   ]
  },
  {
   "cell_type": "code",
   "execution_count": 71,
   "id": "eca00579",
   "metadata": {},
   "outputs": [
    {
     "data": {
      "application/vnd.plotly.v1+json": {
       "config": {
        "plotlyServerURL": "https://plot.ly"
       },
       "data": [
        {
         "mode": "lines+markers",
         "name": "Coût exact",
         "type": "scatter",
         "x": [
          0,
          0.1,
          0.2,
          0.30000000000000004,
          0.4,
          0.5,
          0.6000000000000001,
          0.7000000000000001,
          0.8,
          0.9,
          1
         ],
         "y": [
          591620,
          592207.5,
          592795,
          593382.5,
          593970,
          594620,
          595270,
          595920,
          596570,
          597220,
          597870
         ]
        },
        {
         "line": {
          "dash": "dash"
         },
         "mode": "lines+markers",
         "name": "Estimation linéaire",
         "type": "scatter",
         "x": [
          0,
          0.1,
          0.2,
          0.30000000000000004,
          0.4,
          0.5,
          0.6000000000000001,
          0.7000000000000001,
          0.8,
          0.9,
          1
         ],
         "y": [
          591620,
          591032.5,
          590445,
          589857.5,
          589270,
          588682.5,
          588095,
          587507.5,
          586920,
          586332.5,
          585745
         ]
        }
       ],
       "layout": {
        "legend": {
         "x": 0.1,
         "xanchor": "left",
         "y": 1,
         "yanchor": "top"
        },
        "template": {
         "data": {
          "bar": [
           {
            "error_x": {
             "color": "rgb(36,36,36)"
            },
            "error_y": {
             "color": "rgb(36,36,36)"
            },
            "marker": {
             "line": {
              "color": "white",
              "width": 0.5
             },
             "pattern": {
              "fillmode": "overlay",
              "size": 10,
              "solidity": 0.2
             }
            },
            "type": "bar"
           }
          ],
          "barpolar": [
           {
            "marker": {
             "line": {
              "color": "white",
              "width": 0.5
             },
             "pattern": {
              "fillmode": "overlay",
              "size": 10,
              "solidity": 0.2
             }
            },
            "type": "barpolar"
           }
          ],
          "carpet": [
           {
            "aaxis": {
             "endlinecolor": "rgb(36,36,36)",
             "gridcolor": "white",
             "linecolor": "white",
             "minorgridcolor": "white",
             "startlinecolor": "rgb(36,36,36)"
            },
            "baxis": {
             "endlinecolor": "rgb(36,36,36)",
             "gridcolor": "white",
             "linecolor": "white",
             "minorgridcolor": "white",
             "startlinecolor": "rgb(36,36,36)"
            },
            "type": "carpet"
           }
          ],
          "choropleth": [
           {
            "colorbar": {
             "outlinewidth": 1,
             "tickcolor": "rgb(36,36,36)",
             "ticks": "outside"
            },
            "type": "choropleth"
           }
          ],
          "contour": [
           {
            "colorbar": {
             "outlinewidth": 1,
             "tickcolor": "rgb(36,36,36)",
             "ticks": "outside"
            },
            "colorscale": [
             [
              0,
              "#440154"
             ],
             [
              0.1111111111111111,
              "#482878"
             ],
             [
              0.2222222222222222,
              "#3e4989"
             ],
             [
              0.3333333333333333,
              "#31688e"
             ],
             [
              0.4444444444444444,
              "#26828e"
             ],
             [
              0.5555555555555556,
              "#1f9e89"
             ],
             [
              0.6666666666666666,
              "#35b779"
             ],
             [
              0.7777777777777778,
              "#6ece58"
             ],
             [
              0.8888888888888888,
              "#b5de2b"
             ],
             [
              1,
              "#fde725"
             ]
            ],
            "type": "contour"
           }
          ],
          "contourcarpet": [
           {
            "colorbar": {
             "outlinewidth": 1,
             "tickcolor": "rgb(36,36,36)",
             "ticks": "outside"
            },
            "type": "contourcarpet"
           }
          ],
          "heatmap": [
           {
            "colorbar": {
             "outlinewidth": 1,
             "tickcolor": "rgb(36,36,36)",
             "ticks": "outside"
            },
            "colorscale": [
             [
              0,
              "#440154"
             ],
             [
              0.1111111111111111,
              "#482878"
             ],
             [
              0.2222222222222222,
              "#3e4989"
             ],
             [
              0.3333333333333333,
              "#31688e"
             ],
             [
              0.4444444444444444,
              "#26828e"
             ],
             [
              0.5555555555555556,
              "#1f9e89"
             ],
             [
              0.6666666666666666,
              "#35b779"
             ],
             [
              0.7777777777777778,
              "#6ece58"
             ],
             [
              0.8888888888888888,
              "#b5de2b"
             ],
             [
              1,
              "#fde725"
             ]
            ],
            "type": "heatmap"
           }
          ],
          "heatmapgl": [
           {
            "colorbar": {
             "outlinewidth": 1,
             "tickcolor": "rgb(36,36,36)",
             "ticks": "outside"
            },
            "colorscale": [
             [
              0,
              "#440154"
             ],
             [
              0.1111111111111111,
              "#482878"
             ],
             [
              0.2222222222222222,
              "#3e4989"
             ],
             [
              0.3333333333333333,
              "#31688e"
             ],
             [
              0.4444444444444444,
              "#26828e"
             ],
             [
              0.5555555555555556,
              "#1f9e89"
             ],
             [
              0.6666666666666666,
              "#35b779"
             ],
             [
              0.7777777777777778,
              "#6ece58"
             ],
             [
              0.8888888888888888,
              "#b5de2b"
             ],
             [
              1,
              "#fde725"
             ]
            ],
            "type": "heatmapgl"
           }
          ],
          "histogram": [
           {
            "marker": {
             "line": {
              "color": "white",
              "width": 0.6
             }
            },
            "type": "histogram"
           }
          ],
          "histogram2d": [
           {
            "colorbar": {
             "outlinewidth": 1,
             "tickcolor": "rgb(36,36,36)",
             "ticks": "outside"
            },
            "colorscale": [
             [
              0,
              "#440154"
             ],
             [
              0.1111111111111111,
              "#482878"
             ],
             [
              0.2222222222222222,
              "#3e4989"
             ],
             [
              0.3333333333333333,
              "#31688e"
             ],
             [
              0.4444444444444444,
              "#26828e"
             ],
             [
              0.5555555555555556,
              "#1f9e89"
             ],
             [
              0.6666666666666666,
              "#35b779"
             ],
             [
              0.7777777777777778,
              "#6ece58"
             ],
             [
              0.8888888888888888,
              "#b5de2b"
             ],
             [
              1,
              "#fde725"
             ]
            ],
            "type": "histogram2d"
           }
          ],
          "histogram2dcontour": [
           {
            "colorbar": {
             "outlinewidth": 1,
             "tickcolor": "rgb(36,36,36)",
             "ticks": "outside"
            },
            "colorscale": [
             [
              0,
              "#440154"
             ],
             [
              0.1111111111111111,
              "#482878"
             ],
             [
              0.2222222222222222,
              "#3e4989"
             ],
             [
              0.3333333333333333,
              "#31688e"
             ],
             [
              0.4444444444444444,
              "#26828e"
             ],
             [
              0.5555555555555556,
              "#1f9e89"
             ],
             [
              0.6666666666666666,
              "#35b779"
             ],
             [
              0.7777777777777778,
              "#6ece58"
             ],
             [
              0.8888888888888888,
              "#b5de2b"
             ],
             [
              1,
              "#fde725"
             ]
            ],
            "type": "histogram2dcontour"
           }
          ],
          "mesh3d": [
           {
            "colorbar": {
             "outlinewidth": 1,
             "tickcolor": "rgb(36,36,36)",
             "ticks": "outside"
            },
            "type": "mesh3d"
           }
          ],
          "parcoords": [
           {
            "line": {
             "colorbar": {
              "outlinewidth": 1,
              "tickcolor": "rgb(36,36,36)",
              "ticks": "outside"
             }
            },
            "type": "parcoords"
           }
          ],
          "pie": [
           {
            "automargin": true,
            "type": "pie"
           }
          ],
          "scatter": [
           {
            "fillpattern": {
             "fillmode": "overlay",
             "size": 10,
             "solidity": 0.2
            },
            "type": "scatter"
           }
          ],
          "scatter3d": [
           {
            "line": {
             "colorbar": {
              "outlinewidth": 1,
              "tickcolor": "rgb(36,36,36)",
              "ticks": "outside"
             }
            },
            "marker": {
             "colorbar": {
              "outlinewidth": 1,
              "tickcolor": "rgb(36,36,36)",
              "ticks": "outside"
             }
            },
            "type": "scatter3d"
           }
          ],
          "scattercarpet": [
           {
            "marker": {
             "colorbar": {
              "outlinewidth": 1,
              "tickcolor": "rgb(36,36,36)",
              "ticks": "outside"
             }
            },
            "type": "scattercarpet"
           }
          ],
          "scattergeo": [
           {
            "marker": {
             "colorbar": {
              "outlinewidth": 1,
              "tickcolor": "rgb(36,36,36)",
              "ticks": "outside"
             }
            },
            "type": "scattergeo"
           }
          ],
          "scattergl": [
           {
            "marker": {
             "colorbar": {
              "outlinewidth": 1,
              "tickcolor": "rgb(36,36,36)",
              "ticks": "outside"
             }
            },
            "type": "scattergl"
           }
          ],
          "scattermapbox": [
           {
            "marker": {
             "colorbar": {
              "outlinewidth": 1,
              "tickcolor": "rgb(36,36,36)",
              "ticks": "outside"
             }
            },
            "type": "scattermapbox"
           }
          ],
          "scatterpolar": [
           {
            "marker": {
             "colorbar": {
              "outlinewidth": 1,
              "tickcolor": "rgb(36,36,36)",
              "ticks": "outside"
             }
            },
            "type": "scatterpolar"
           }
          ],
          "scatterpolargl": [
           {
            "marker": {
             "colorbar": {
              "outlinewidth": 1,
              "tickcolor": "rgb(36,36,36)",
              "ticks": "outside"
             }
            },
            "type": "scatterpolargl"
           }
          ],
          "scatterternary": [
           {
            "marker": {
             "colorbar": {
              "outlinewidth": 1,
              "tickcolor": "rgb(36,36,36)",
              "ticks": "outside"
             }
            },
            "type": "scatterternary"
           }
          ],
          "surface": [
           {
            "colorbar": {
             "outlinewidth": 1,
             "tickcolor": "rgb(36,36,36)",
             "ticks": "outside"
            },
            "colorscale": [
             [
              0,
              "#440154"
             ],
             [
              0.1111111111111111,
              "#482878"
             ],
             [
              0.2222222222222222,
              "#3e4989"
             ],
             [
              0.3333333333333333,
              "#31688e"
             ],
             [
              0.4444444444444444,
              "#26828e"
             ],
             [
              0.5555555555555556,
              "#1f9e89"
             ],
             [
              0.6666666666666666,
              "#35b779"
             ],
             [
              0.7777777777777778,
              "#6ece58"
             ],
             [
              0.8888888888888888,
              "#b5de2b"
             ],
             [
              1,
              "#fde725"
             ]
            ],
            "type": "surface"
           }
          ],
          "table": [
           {
            "cells": {
             "fill": {
              "color": "rgb(237,237,237)"
             },
             "line": {
              "color": "white"
             }
            },
            "header": {
             "fill": {
              "color": "rgb(217,217,217)"
             },
             "line": {
              "color": "white"
             }
            },
            "type": "table"
           }
          ]
         },
         "layout": {
          "annotationdefaults": {
           "arrowhead": 0,
           "arrowwidth": 1
          },
          "autotypenumbers": "strict",
          "coloraxis": {
           "colorbar": {
            "outlinewidth": 1,
            "tickcolor": "rgb(36,36,36)",
            "ticks": "outside"
           }
          },
          "colorscale": {
           "diverging": [
            [
             0,
             "rgb(103,0,31)"
            ],
            [
             0.1,
             "rgb(178,24,43)"
            ],
            [
             0.2,
             "rgb(214,96,77)"
            ],
            [
             0.3,
             "rgb(244,165,130)"
            ],
            [
             0.4,
             "rgb(253,219,199)"
            ],
            [
             0.5,
             "rgb(247,247,247)"
            ],
            [
             0.6,
             "rgb(209,229,240)"
            ],
            [
             0.7,
             "rgb(146,197,222)"
            ],
            [
             0.8,
             "rgb(67,147,195)"
            ],
            [
             0.9,
             "rgb(33,102,172)"
            ],
            [
             1,
             "rgb(5,48,97)"
            ]
           ],
           "sequential": [
            [
             0,
             "#440154"
            ],
            [
             0.1111111111111111,
             "#482878"
            ],
            [
             0.2222222222222222,
             "#3e4989"
            ],
            [
             0.3333333333333333,
             "#31688e"
            ],
            [
             0.4444444444444444,
             "#26828e"
            ],
            [
             0.5555555555555556,
             "#1f9e89"
            ],
            [
             0.6666666666666666,
             "#35b779"
            ],
            [
             0.7777777777777778,
             "#6ece58"
            ],
            [
             0.8888888888888888,
             "#b5de2b"
            ],
            [
             1,
             "#fde725"
            ]
           ],
           "sequentialminus": [
            [
             0,
             "#440154"
            ],
            [
             0.1111111111111111,
             "#482878"
            ],
            [
             0.2222222222222222,
             "#3e4989"
            ],
            [
             0.3333333333333333,
             "#31688e"
            ],
            [
             0.4444444444444444,
             "#26828e"
            ],
            [
             0.5555555555555556,
             "#1f9e89"
            ],
            [
             0.6666666666666666,
             "#35b779"
            ],
            [
             0.7777777777777778,
             "#6ece58"
            ],
            [
             0.8888888888888888,
             "#b5de2b"
            ],
            [
             1,
             "#fde725"
            ]
           ]
          },
          "colorway": [
           "#1F77B4",
           "#FF7F0E",
           "#2CA02C",
           "#D62728",
           "#9467BD",
           "#8C564B",
           "#E377C2",
           "#7F7F7F",
           "#BCBD22",
           "#17BECF"
          ],
          "font": {
           "color": "rgb(36,36,36)"
          },
          "geo": {
           "bgcolor": "white",
           "lakecolor": "white",
           "landcolor": "white",
           "showlakes": true,
           "showland": true,
           "subunitcolor": "white"
          },
          "hoverlabel": {
           "align": "left"
          },
          "hovermode": "closest",
          "mapbox": {
           "style": "light"
          },
          "paper_bgcolor": "white",
          "plot_bgcolor": "white",
          "polar": {
           "angularaxis": {
            "gridcolor": "rgb(232,232,232)",
            "linecolor": "rgb(36,36,36)",
            "showgrid": false,
            "showline": true,
            "ticks": "outside"
           },
           "bgcolor": "white",
           "radialaxis": {
            "gridcolor": "rgb(232,232,232)",
            "linecolor": "rgb(36,36,36)",
            "showgrid": false,
            "showline": true,
            "ticks": "outside"
           }
          },
          "scene": {
           "xaxis": {
            "backgroundcolor": "white",
            "gridcolor": "rgb(232,232,232)",
            "gridwidth": 2,
            "linecolor": "rgb(36,36,36)",
            "showbackground": true,
            "showgrid": false,
            "showline": true,
            "ticks": "outside",
            "zeroline": false,
            "zerolinecolor": "rgb(36,36,36)"
           },
           "yaxis": {
            "backgroundcolor": "white",
            "gridcolor": "rgb(232,232,232)",
            "gridwidth": 2,
            "linecolor": "rgb(36,36,36)",
            "showbackground": true,
            "showgrid": false,
            "showline": true,
            "ticks": "outside",
            "zeroline": false,
            "zerolinecolor": "rgb(36,36,36)"
           },
           "zaxis": {
            "backgroundcolor": "white",
            "gridcolor": "rgb(232,232,232)",
            "gridwidth": 2,
            "linecolor": "rgb(36,36,36)",
            "showbackground": true,
            "showgrid": false,
            "showline": true,
            "ticks": "outside",
            "zeroline": false,
            "zerolinecolor": "rgb(36,36,36)"
           }
          },
          "shapedefaults": {
           "fillcolor": "black",
           "line": {
            "width": 0
           },
           "opacity": 0.3
          },
          "ternary": {
           "aaxis": {
            "gridcolor": "rgb(232,232,232)",
            "linecolor": "rgb(36,36,36)",
            "showgrid": false,
            "showline": true,
            "ticks": "outside"
           },
           "baxis": {
            "gridcolor": "rgb(232,232,232)",
            "linecolor": "rgb(36,36,36)",
            "showgrid": false,
            "showline": true,
            "ticks": "outside"
           },
           "bgcolor": "white",
           "caxis": {
            "gridcolor": "rgb(232,232,232)",
            "linecolor": "rgb(36,36,36)",
            "showgrid": false,
            "showline": true,
            "ticks": "outside"
           }
          },
          "title": {
           "x": 0.05
          },
          "xaxis": {
           "automargin": true,
           "gridcolor": "rgb(232,232,232)",
           "linecolor": "rgb(36,36,36)",
           "showgrid": false,
           "showline": true,
           "ticks": "outside",
           "title": {
            "standoff": 15
           },
           "zeroline": false,
           "zerolinecolor": "rgb(36,36,36)"
          },
          "yaxis": {
           "automargin": true,
           "gridcolor": "rgb(232,232,232)",
           "linecolor": "rgb(36,36,36)",
           "showgrid": false,
           "showline": true,
           "ticks": "outside",
           "title": {
            "standoff": 15
           },
           "zeroline": false,
           "zerolinecolor": "rgb(36,36,36)"
          }
         }
        },
        "title": {
         "text": "Coût exact vs estimation linéaire"
        },
        "xaxis": {
         "title": {
          "text": "Epsilon [-]"
         }
        },
        "yaxis": {
         "title": {
          "text": "Coût total [-]"
         }
        }
       }
      }
     },
     "metadata": {},
     "output_type": "display_data"
    }
   ],
   "source": [
    "epsilons = np.linspace(0, 1, 11)\n",
    "couts_exact, couts_estimes = [], []\n",
    "\n",
    "for eps in epsilons:\n",
    "    cout_exact, _ = resolution_dual(demande + eps * delta_demande)\n",
    "    couts_exact.append(cout_exact)\n",
    "    couts_estimes.append(cout_optimal + eps*dy)\n",
    "\n",
    "# Graphe\n",
    "fig = go.Figure()\n",
    "fig.add_trace(go.Scatter(x=epsilons, y=couts_exact, mode=\"lines+markers\", name=\"Coût exact\"))\n",
    "fig.add_trace(go.Scatter(x=epsilons, y=couts_estimes, mode=\"lines+markers\", name=\"Estimation linéaire\", line=dict(dash=\"dash\")))\n",
    "fig.update_layout(\n",
    "    title=\"Coût exact vs estimation linéaire\",\n",
    "    xaxis_title=\"Epsilon [-]\",\n",
    "    yaxis_title=\"Coût total [-]\",\n",
    "    template=\"simple_white\",\n",
    "    legend=dict(\n",
    "        x=0.1,\n",
    "        y=1,\n",
    "        xanchor='left',\n",
    "        yanchor='top'\n",
    "    )\n",
    ")\n",
    "fig.show()"
   ]
  },
  {
   "cell_type": "code",
   "execution_count": 72,
   "id": "6d197bcd",
   "metadata": {},
   "outputs": [
    {
     "data": {
      "text/html": [
       "<style type=\"text/css\">\n",
       "#T_29a07 th {\n",
       "  text-align: center;\n",
       "}\n",
       "#T_29a07_row0_col0, #T_29a07_row0_col1, #T_29a07_row0_col2, #T_29a07_row0_col3, #T_29a07_row1_col0, #T_29a07_row1_col1, #T_29a07_row1_col2, #T_29a07_row1_col3, #T_29a07_row2_col0, #T_29a07_row2_col1, #T_29a07_row2_col2, #T_29a07_row2_col3, #T_29a07_row3_col0, #T_29a07_row3_col1, #T_29a07_row3_col2, #T_29a07_row3_col3, #T_29a07_row4_col0, #T_29a07_row4_col1, #T_29a07_row4_col2, #T_29a07_row4_col3, #T_29a07_row5_col0, #T_29a07_row5_col1, #T_29a07_row5_col2, #T_29a07_row5_col3 {\n",
       "  text-align: center;\n",
       "}\n",
       "</style>\n",
       "<table id=\"T_29a07\">\n",
       "  <caption>Comparaison coût exact vs estimation linéaire</caption>\n",
       "  <thead>\n",
       "    <tr>\n",
       "      <th class=\"blank level0\" >&nbsp;</th>\n",
       "      <th id=\"T_29a07_level0_col0\" class=\"col_heading level0 col0\" >epsilon</th>\n",
       "      <th id=\"T_29a07_level0_col1\" class=\"col_heading level0 col1\" >Coût exact (€)</th>\n",
       "      <th id=\"T_29a07_level0_col2\" class=\"col_heading level0 col2\" >Estimation linéaire (€)</th>\n",
       "      <th id=\"T_29a07_level0_col3\" class=\"col_heading level0 col3\" >Écart (%)</th>\n",
       "    </tr>\n",
       "  </thead>\n",
       "  <tbody>\n",
       "    <tr>\n",
       "      <th id=\"T_29a07_level0_row0\" class=\"row_heading level0 row0\" >0</th>\n",
       "      <td id=\"T_29a07_row0_col0\" class=\"data row0 col0\" >0.000000</td>\n",
       "      <td id=\"T_29a07_row0_col1\" class=\"data row0 col1\" >591620</td>\n",
       "      <td id=\"T_29a07_row0_col2\" class=\"data row0 col2\" >591620</td>\n",
       "      <td id=\"T_29a07_row0_col3\" class=\"data row0 col3\" >0.000 %</td>\n",
       "    </tr>\n",
       "    <tr>\n",
       "      <th id=\"T_29a07_level0_row1\" class=\"row_heading level0 row1\" >1</th>\n",
       "      <td id=\"T_29a07_row1_col0\" class=\"data row1 col0\" >0.200000</td>\n",
       "      <td id=\"T_29a07_row1_col1\" class=\"data row1 col1\" >592795</td>\n",
       "      <td id=\"T_29a07_row1_col2\" class=\"data row1 col2\" >590445</td>\n",
       "      <td id=\"T_29a07_row1_col3\" class=\"data row1 col3\" >0.396 %</td>\n",
       "    </tr>\n",
       "    <tr>\n",
       "      <th id=\"T_29a07_level0_row2\" class=\"row_heading level0 row2\" >2</th>\n",
       "      <td id=\"T_29a07_row2_col0\" class=\"data row2 col0\" >0.400000</td>\n",
       "      <td id=\"T_29a07_row2_col1\" class=\"data row2 col1\" >593970</td>\n",
       "      <td id=\"T_29a07_row2_col2\" class=\"data row2 col2\" >589270</td>\n",
       "      <td id=\"T_29a07_row2_col3\" class=\"data row2 col3\" >0.791 %</td>\n",
       "    </tr>\n",
       "    <tr>\n",
       "      <th id=\"T_29a07_level0_row3\" class=\"row_heading level0 row3\" >3</th>\n",
       "      <td id=\"T_29a07_row3_col0\" class=\"data row3 col0\" >0.600000</td>\n",
       "      <td id=\"T_29a07_row3_col1\" class=\"data row3 col1\" >595270</td>\n",
       "      <td id=\"T_29a07_row3_col2\" class=\"data row3 col2\" >588095</td>\n",
       "      <td id=\"T_29a07_row3_col3\" class=\"data row3 col3\" >1.205 %</td>\n",
       "    </tr>\n",
       "    <tr>\n",
       "      <th id=\"T_29a07_level0_row4\" class=\"row_heading level0 row4\" >4</th>\n",
       "      <td id=\"T_29a07_row4_col0\" class=\"data row4 col0\" >0.800000</td>\n",
       "      <td id=\"T_29a07_row4_col1\" class=\"data row4 col1\" >596570</td>\n",
       "      <td id=\"T_29a07_row4_col2\" class=\"data row4 col2\" >586920</td>\n",
       "      <td id=\"T_29a07_row4_col3\" class=\"data row4 col3\" >1.618 %</td>\n",
       "    </tr>\n",
       "    <tr>\n",
       "      <th id=\"T_29a07_level0_row5\" class=\"row_heading level0 row5\" >5</th>\n",
       "      <td id=\"T_29a07_row5_col0\" class=\"data row5 col0\" >1.000000</td>\n",
       "      <td id=\"T_29a07_row5_col1\" class=\"data row5 col1\" >597870</td>\n",
       "      <td id=\"T_29a07_row5_col2\" class=\"data row5 col2\" >585745</td>\n",
       "      <td id=\"T_29a07_row5_col3\" class=\"data row5 col3\" >2.028 %</td>\n",
       "    </tr>\n",
       "  </tbody>\n",
       "</table>\n"
      ],
      "text/plain": [
       "<pandas.io.formats.style.Styler at 0x1dd0e69ca40>"
      ]
     },
     "execution_count": 72,
     "metadata": {},
     "output_type": "execute_result"
    }
   ],
   "source": [
    "epsilons = [0.0, 0.2, 0.4, 0.6, 0.8, 1.0]\n",
    "couts_exacts = [591620, 592795, 593970, 595270, 596570, 597870]\n",
    "estimations_lineaires = [591620, 590445, 589270, 588095, 586920, 585745]\n",
    "\n",
    "ecarts_pourcent = [\n",
    "    100 * abs(c - e) / c\n",
    "    for c, e in zip(couts_exacts, estimations_lineaires)\n",
    "]\n",
    "\n",
    "df_comparaison = pd.DataFrame({\n",
    "    \"epsilon\": epsilons,\n",
    "    \"Coût exact (€)\": couts_exacts,\n",
    "    \"Estimation linéaire (€)\": estimations_lineaires,\n",
    "    \"Écart (%)\": [f\"{e:.3f} %\" for e in ecarts_pourcent]\n",
    "})\n",
    "\n",
    "df_comparaison.style.set_properties(**{\n",
    "    'text-align': 'center'\n",
    "}).set_table_styles([\n",
    "    dict(selector='th', props=[('text-align', 'center')])\n",
    "]).set_caption(\"Comparaison coût exact vs estimation linéaire\")"
   ]
  },
  {
   "cell_type": "markdown",
   "id": "0b6d94d2",
   "metadata": {},
   "source": [
    "#### Interprétation\n",
    "\n",
    "Les résultats présentés dans ce graphe illustrent la différence entre le coût exact et son estimation linéaire lorsque la demande varie progressivement. On constate une très légère divergence entre les deux courbes (l’échelle du graphe est trompeuse) : alors que le coût exact augmente régulièrement avec la hausse de la demande, l’estimation linéaire diminue. L’écart relatif, initialement nul, atteint environ 2 % pour $\\varepsilon = 1$. Cette approximation linéaire reste globalement très précise, confirmant ainsi son intérêt pratique pour l’analyse locale autour du point optimal initial.\n",
    "\n",
    "L’autre chose marquante est que l’estimation linéaire possède une pente négative, alors que la solution exacte montre une augmentation du coût à mesure que $\\varepsilon$ augmente. Voici notre explication :\n",
    "\n",
    "— *Les variables duales correspondent à la variation locale du coût lorsqu’on modifie légèrement les contraintes.* Plus précisément, elles donnent le coût marginal associé à chaque contrainte dans sa formulation initiale. Ainsi, si une contrainte d’équilibre de la forme\n",
    "\n",
    "$$\n",
    "S_t + P_t + R_t - D_t - S_{t+1} = 0\n",
    "$$\n",
    "\n",
    "est écrite avec un signe négatif devant la demande $D_t$, augmenter cette demande revient à *relâcher* la contrainte (car le terme négatif augmente). Ceci explique pourquoi les variables duales correspondantes peuvent devenir négatives : elles traduisent simplement la manière dont la contrainte est formulée dans le modèle initial.\n",
    "\n",
    "— *L’estimation linéaire correspond à une approximation locale valable uniquement tant que le régime optimal (ensemble des contraintes actives et non actives) reste inchangé.* Dès que nous modifions suffisamment la demande (ici en augmentant progressivement $\\varepsilon$), la solution optimale change de structure : certaines contraintes jusque-là inactives peuvent devenir actives (ou inversement). Cela explique pourquoi, à partir d’un certain seuil, l’approximation linéaire devient erronée et diverge du coût exact.\n",
    "\n",
    "En conclusion, les variables duales donnent une approximation locale qui reste très précise pour des variations modérées autour de la solution optimale initiale, comme le montrent clairement les résultats obtenus (écart max de 2.028 pour cent).\n"
   ]
  },
  {
   "cell_type": "markdown",
   "id": "041bb4db",
   "metadata": {},
   "source": [
    "---\n",
    "\n",
    "##  Question 3 : Variantes du modèle\n",
    "\n",
    "###  3.1 Variation du coût d’heure supplémentaire\n",
    "\n",
    "Si le coût des heures supplémentaires dépend du nombre d’heures effectuées, on introduit deux nouvelles variables :\n",
    "\n",
    "- $h_{s,1}$ : nombre d’heures supplémentaires effectuées en semaine $s$ au taux de 150%.\n",
    "- $h_{s,2}$ : nombre d’heures supplémentaires effectuées en semaine $s$ au taux de 200%.\n",
    "\n",
    "Auxquelles on associe les contraintes suivantes :\n",
    "\n",
    "$$\n",
    "0 \\leq h_{s,1} \\leq 2 \\cdot \\text{nb\\_ouvriers}, \\quad 0 \\leq h_{s,2} \\leq 3 \\cdot \\text{nb\\_ouvriers}, \\quad \\forall s \\in \\{0, \\dots, T-1\\}\n",
    "$$\n",
    "\n",
    "Le coût total des heures supplémentaires devient :\n",
    "\n",
    "$$\n",
    "\\sum_{s=1}^{T} \\left( 1.5 \\cdot \\text{cout\\_horaire} \\cdot h_{s,1} + 2 \\cdot \\text{cout\\_horaire} \\cdot h_{s,2} \\right)\n",
    "$$\n",
    "\n",
    "Ce modèle reste linéaire car :\n",
    "\n",
    "- Les nouvelles variables $h_{s,1}$ et $h_{s,2}$ sont continues car elles peuvent prendre n’importe quelle valeur réelle positive dans les bornes imposées par les contraintes.\n",
    "- La fonction objectif est une somme de termes linéaires.\n",
    "- Les contraintes restent linéaires.\n",
    "\n",
    "**Tableau — Cas 1 : Coût strictement croissant**\n",
    "\n",
    "| Heures supp | Coût par heure       | Coût cumulé             |\n",
    "|-------------|----------------------|--------------------------|\n",
    "| 1h          | $1.5 \\cdot \\text{cout\\_horaire}$ | $1.5 \\cdot \\text{cout\\_horaire}$  |\n",
    "| 2h          | $1.5 \\cdot \\text{cout\\_horaire}$ | $3.0 \\cdot \\text{cout\\_horaire}$  |\n",
    "| 3h          | $2.0 \\cdot \\text{cout\\_horaire}$ | $5.0 \\cdot \\text{cout\\_horaire}$  |\n",
    "| 4h          | $2.0 \\cdot \\text{cout\\_horaire}$ | $7.0 \\cdot \\text{cout\\_horaire}$  |\n",
    "| 5h          | $2.0 \\cdot \\text{cout\\_horaire}$ | $9.0 \\cdot \\text{cout\\_horaire}$  |\n",
    "\n",
    "---\n",
    "\n",
    "**Tableau — Cas 2 : Coût non-monotone**\n",
    "\n",
    "| Heures supp | Coût par heure       | Coût cumulé             |\n",
    "|-------------|----------------------|--------------------------|\n",
    "| 1h          | $1.5 \\cdot \\text{cout\\_horaire}$ | $1.5 \\cdot \\text{cout\\_horaire}$  |\n",
    "| 2h          | $1.5 \\cdot \\text{cout\\_horaire}$ | $3.0 \\cdot \\text{cout\\_horaire}$  |\n",
    "| 3h          | $1.25 \\cdot \\text{cout\\_horaire}$ | $4.25 \\cdot \\text{cout\\_horaire}$ |\n",
    "| 4h          | $1.25 \\cdot \\text{cout\\_horaire}$ | $5.5 \\cdot \\text{cout\\_horaire}$  |\n",
    "| 5h          | $1.25 \\cdot \\text{cout\\_horaire}$ | $6.75 \\cdot \\text{cout\\_horaire}$ |\n",
    "\n",
    "Si le coût des trois dernières heures supplémentaires tombait à 125% au lieu de 200%, la fonction objectif deviendrait non-monotone. On va introduire des variables binaires, pour segmenter le problème en plusieurs régions linéaires. Cependant le passage d’une région à l’autre introduit une discontinuité, rendant le problème globalement non linéaire de manière continue.\n",
    "\n",
    "---\n",
    "\n",
    "### Variables binaires et contraintes\n",
    "\n",
    "- $z_{s,1} \\in \\{0,1\\}$ : active la première tranche d’heures supplémentaires à 150%.\n",
    "- $z_{s,2} \\in \\{0,1\\}$ : active la seconde tranche à 125%.\n",
    "- $h_{s,1}, h_{s,2} \\geq 0$ : heures supplémentaires dans chaque tranche.\n",
    "\n",
    "**Contraintes**\n",
    "\n",
    "1. **Bornes sur les heures :**\n",
    "\n",
    "$$\n",
    "0 \\leq h_{s,1} \\leq 2 \\cdot \\text{nb\\_ouvriers} \\cdot z_{s,1}, \\quad 0 \\leq h_{s,2} \\leq 3 \\cdot \\text{nb\\_ouvriers} \\cdot z_{s,2}\n",
    "$$\n",
    "\n",
    "2. **Activation séquentielle :**\n",
    "\n",
    "$$\n",
    "z_{s,2} \\leq z_{s,1}\n",
    "$$\n",
    "\n",
    "3. **Total des heures :**\n",
    "\n",
    "$$\n",
    "h_s = h_{s,1} + h_{s,2}\n",
    "$$\n",
    "\n",
    "4. **Coût des heures supplémentaires :**\n",
    "\n",
    "$$\n",
    "\\text{Coût} = 1.5 \\cdot \\text{cout\\_horaire} \\cdot h_{s,1} + 1.25 \\cdot \\text{cout\\_horaire} \\cdot h_{s,2}\n",
    "$$\n",
    "\n",
    "---\n",
    "\n",
    "### Nature du modèle\n",
    "\n",
    "Ce jeu avec les variables binaires $z_{s,1}$ et $z_{s,2}$ peut introduire des discontinuités en fonction de la combinaison de $z_{s,1}$ et $z_{s,2}$, ce qui va rompre la linéarité. On aura affaire à un programme linéaire en nombres mixtes (MILP). Ce type de problème nécessite une méthode résolution plus complexe, ainsi le solveur utilisé dans notre code ne fonctionnera plus. En effet, avec les différentes combinaisons possibles des variables binaires, l’espace de recherche sera considérablement agrandi et il faudra utiliser des méthodes comme l’algorithme branch-and-bound.\n",
    "\n",
    "---\n",
    "\n",
    "\n",
    "### 3.2 Coût des matériaux variable et stockage limité\n",
    "\n",
    "Si l’on suppose que le coût des matériaux évolue de semaine en semaine, ce coût est donc variable.  \n",
    "On va devoir alors ajouter deux nouvelles variables (une pour la quantité des matériaux et l’autre pour le stockage des matériaux) à notre modèle tout en modifiant certaines contraintes.\n",
    "\n",
    "#### Les variables\n",
    "\n",
    "- \\( A_s \\) : quantité de matériaux achetés au début de la semaine \\( s \\)\n",
    "- \\( M_s \\) : stock de matériaux en fin de semaine \\( s \\)\n",
    "\n",
    "> On sous-entend que ces variables sont exprimées en termes de vélos équivalents.\n",
    "\n",
    "#### Contraintes\n",
    "\n",
    "- **Évolution du stock de matériaux** :  \n",
    "  $$\n",
    "  M_{s+1} = M_s + A_s - \\left( P_s + \\frac{60}{t_a} H_s + ST_s \\right), \\quad \\forall s \\in \\{0, \\dots, T-1\\}\n",
    "  $$\n",
    "\n",
    "- **Capacité maximale de stockage** :  \n",
    "  $$\n",
    "  M_s \\leq \\text{stock\\_max\\_materiaux}, \\quad \\forall s \\in \\{0, \\dots, T-1\\}\n",
    "  $$\n",
    "\n",
    "- **Matériaux disponibles ≥ matériaux utilisés** :  \n",
    "  $$\n",
    "  P_s + \\frac{60}{t_a} H_s + ST_s \\leq M_s + A_s, \\quad \\forall s\n",
    "  $$\n",
    "\n",
    "#### Modification de la fonction objectif\n",
    "\n",
    "Le coût des matériaux devient :\n",
    "$$\n",
    "\\sum_{s=0}^{T-1} \\text{cout\\_materiaux}(s) \\cdot A_s\n",
    "$$\n",
    "\n",
    "Ce terme remplace l’ancien coût constant des matériaux dans la fonction objectif.\n",
    "\n",
    "### Interprétation\n",
    "\n",
    "Ces modifications ajoutent une subtilité au problème le rendant plus réaliste.  \n",
    "L’entreprise doit maintenant tenir compte de la gestion des matériaux et choisir le moment “optimal” pour minimiser le coût total, tout en s’assurant de ne pas manquer de matériaux pour pouvoir satisfaire la demande.\n",
    "\n",
    "\n"
   ]
  },
  {
   "cell_type": "markdown",
   "id": "cc38e3f4",
   "metadata": {},
   "source": [
    "---\n",
    "## Conclusion\n",
    "\n",
    "Après avoir modélisé le problème, implémenté un code Python pour trouver une solution optimale, généré des graphiques représentant la situation et répondu aux autres questions, nous concluons en soulignant l'utilité des méthodes d'optimisation linéaire. Bien que ces problèmes ne couvrent pas toutes les situations du monde réel, ils peuvent néanmoins représenter des cas réalistes et complexes, comme c'est le cas dans ce projet.\n",
    "\n",
    "Les concepts théoriques et l'application de ces méthodes d'optimisation nous permettent désormais de résoudre efficacement ce type de problème. Ce projet met en avant l'aspect pratique de ce cours et nous encourage à trouver des solutions tout en interprétant correctement les éléments clés, ce qui facilite la prise de décision.\n",
    "\n",
    "Pour la seconde partie du projet, nous devrons ajouter une dimension importante à notre modélisation, à savoir la gestion du personnel, qui introduira de nouvelles contraintes et variables liées à l'affectation des ouvriers et à la gestion des ressources humaines. De plus, cette partie du projet nécessitera la résolution d'une formulation linéaire en nombres entiers (MILP), ce qui permettra d'intégrer des variables binaires et entières dans notre modèle. Cette évolution du modèle se voudra encore plus réaliste.\n",
    "\n",
    "---\n",
    "\n",
    "Pour cette première partie, nous avons réparti les questions et sous-questions, puis effectué une relecture collective de l’ensemble du rapport :\n",
    "\n",
    "- **Question 1** : Elyas Mzoughi & Diego Asscherickx  \n",
    "- **Question 2** : Elyas Mzoughi  \n",
    "- **Question 3** : Diego Asscherickx"
   ]
  }
 ],
 "metadata": {
  "kernelspec": {
   "display_name": "base",
   "language": "python",
   "name": "python3"
  },
  "language_info": {
   "codemirror_mode": {
    "name": "ipython",
    "version": 3
   },
   "file_extension": ".py",
   "mimetype": "text/x-python",
   "name": "python",
   "nbconvert_exporter": "python",
   "pygments_lexer": "ipython3",
   "version": "3.12.3"
  }
 },
 "nbformat": 4,
 "nbformat_minor": 5
}
